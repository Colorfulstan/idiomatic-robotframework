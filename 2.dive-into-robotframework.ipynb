{
 "metadata": {
  "name": "",
  "signature": "sha256:47bd8fb2dde5426f678a06357f97324d9bcb1e8c0e3a5df7894da55d6b4c2786"
 },
 "nbformat": 3,
 "nbformat_minor": 0,
 "worksheets": [
  {
   "cells": [
    {
     "cell_type": "heading",
     "level": 1,
     "metadata": {
      "slideshow": {
       "slide_type": "slide"
      }
     },
     "source": [
      "PART 2: Dive Into RobotFramework"
     ]
    },
    {
     "cell_type": "markdown",
     "metadata": {},
     "source": [
      "----"
     ]
    },
    {
     "cell_type": "heading",
     "level": 2,
     "metadata": {},
     "source": [
      "RobotFramework\u7684\u5f00\u53d1\u6a21\u5f0f\u63a2\u5bfb"
     ]
    },
    {
     "cell_type": "markdown",
     "metadata": {},
     "source": [
      "\u6211\u4eec\u9996\u5148\u6765\u63a2\u5bfb\u4e00\u4e0bRobotFramework\u7684\u5f00\u53d1\u6a21\u5f0f. \u901a\u8fc7\u89c2\u5bdf\u5b83\u5728github\u4e0a\u7684\u9879\u76ee\u4ee5\u53ca\u63d0\u4ea4\u548c\u53d1\u5e03\u60c5\u51b5,\u6211\u4eec\u53ef\u4ee5\u53d1\u73b0:\n",
      "* \u5f00\u53d1\u57fa\u4e8egithub\n",
      "* \u5de5\u4f5c\u5728master\u5206\u652f\u4e0a\n",
      "* \u4e0d\u76f4\u63a5\u63d0\u4ea4\u5230master\u5206\u652f\n",
      "* \u4f7f\u7528**pull request**\u6765\u8fdb\u884ccode review\n",
      "* \u4f7f\u7528milestone\u6765\u8fdb\u884c\u9879\u76ee\u8fdb\u5ea6\u7ba1\u7406,\u5982https://github.com/robotframework/robotframework/milestones\n",
      "* \u4f7f\u7528branch\u6765\u8fdb\u884cfeature\u5f00\u53d1\n",
      "* \u4f7f\u7528tag\u6765\u8fdb\u884crelease"
     ]
    },
    {
     "cell_type": "markdown",
     "metadata": {},
     "source": [
      "----"
     ]
    },
    {
     "cell_type": "heading",
     "level": 2,
     "metadata": {},
     "source": [
      "RobotFramework\u7684\u6d4b\u8bd5"
     ]
    },
    {
     "cell_type": "heading",
     "level": 3,
     "metadata": {},
     "source": [
      "Unit Testing"
     ]
    },
    {
     "cell_type": "markdown",
     "metadata": {},
     "source": [
      "```sh\n",
      "python utest/run_utests.py\n",
      "```"
     ]
    },
    {
     "cell_type": "heading",
     "level": 3,
     "metadata": {},
     "source": [
      "Acceptance Testing"
     ]
    },
    {
     "cell_type": "markdown",
     "metadata": {},
     "source": [
      "```sh\n",
      "python atest/run_atests.py python robot\n",
      "```"
     ]
    },
    {
     "cell_type": "markdown",
     "metadata": {},
     "source": [
      "----"
     ]
    },
    {
     "cell_type": "heading",
     "level": 2,
     "metadata": {},
     "source": [
      "RobotFramework\u7684\u6574\u4f53\u5de5\u4f5c\u6d41"
     ]
    },
    {
     "cell_type": "markdown",
     "metadata": {},
     "source": [
      "![RobotFramework Workflow](img/robot_workflow.svg \"RobotFramework Workflow\")\n"
     ]
    },
    {
     "cell_type": "markdown",
     "metadata": {},
     "source": [
      "----"
     ]
    },
    {
     "cell_type": "heading",
     "level": 2,
     "metadata": {},
     "source": [
      "RobotFramework\u7684\u4e3b\u8981\u6a21\u5757"
     ]
    },
    {
     "cell_type": "code",
     "collapsed": false,
     "input": [
      "import robot\n",
      "filter(lambda x: not x.startswith('_') and x not in ('sys', 'version', 'get_version', 'pythonpathsetter', 'run_cli', 'rebot', 'rebot_cli'), dir(robot))"
     ],
     "language": "python",
     "metadata": {},
     "outputs": [
      {
       "metadata": {},
       "output_type": "pyout",
       "prompt_number": 11,
       "text": [
        "['conf',\n",
        " 'errors',\n",
        " 'htmldata',\n",
        " 'model',\n",
        " 'output',\n",
        " 'parsing',\n",
        " 'reporting',\n",
        " 'result',\n",
        " 'run',\n",
        " 'running',\n",
        " 'utils',\n",
        " 'variables',\n",
        " 'writer']"
       ]
      }
     ],
     "prompt_number": 11
    },
    {
     "cell_type": "markdown",
     "metadata": {},
     "source": [
      "\u6211\u4eec\u8003\u8651\u5176\u4e2d\u4e3b\u8981\u7684\u6a21\u5757:\n",
      "* robot.run\n",
      "* robot.model\n",
      "* robot.parsing\n",
      "* robot.running\n",
      "* robot.output\n",
      "* robot.result\n",
      "* robot.reporting\n"
     ]
    },
    {
     "cell_type": "markdown",
     "metadata": {},
     "source": [
      "----"
     ]
    },
    {
     "cell_type": "heading",
     "level": 3,
     "metadata": {},
     "source": [
      "robot.run"
     ]
    },
    {
     "cell_type": "code",
     "collapsed": false,
     "input": [
      "from robot.run import RobotFramework # main class\n",
      "from robot.run import run # \u6267\u884c\u5165\u53e3\n",
      "from robot.run import run_cli # \u547d\u4ee4\u884c\u6267\u884c\u5165\u53e3"
     ],
     "language": "python",
     "metadata": {},
     "outputs": [],
     "prompt_number": 15
    },
    {
     "cell_type": "markdown",
     "metadata": {},
     "source": [
      "RobotFramework\u7684\u4e3b\u8981\u4ee3\u7801\n",
      "```python\n",
      "class RobotFramework(Application):\n",
      "\n",
      "    def __init__(self):\n",
      "        Application.__init__(self, USAGE, arg_limits=(1,),\n",
      "                             env_options='ROBOT_OPTIONS', logger=LOGGER)\n",
      "\n",
      "    def main(self, datasources, **options):\n",
      "        settings = RobotSettings(options)\n",
      "        LOGGER.register_console_logger(**settings.console_logger_config)\n",
      "        LOGGER.info('Settings:\\n%s' % unicode(settings))\n",
      "        suite = TestSuiteBuilder(settings['SuiteNames'],\n",
      "                                 settings['WarnOnSkipped'],\n",
      "                                 settings['RunEmptySuite']).build(*datasources)\n",
      "        suite.configure(**settings.suite_config)\n",
      "        with pyloggingconf.robot_handler_enabled(settings.log_level):\n",
      "            result = suite.run(settings)\n",
      "            LOGGER.info(\"Tests execution ended. Statistics:\\n%s\"\n",
      "                        % result.suite.stat_message)\n",
      "            if settings.log or settings.report or settings.xunit:\n",
      "                writer = ResultWriter(settings.output if settings.log\n",
      "                                      else result)\n",
      "                writer.write_results(settings.get_rebot_settings())\n",
      "        return result.return_code\n",
      "```"
     ]
    },
    {
     "cell_type": "markdown",
     "metadata": {},
     "source": [
      "run\u548crun_cli\u7684\u4ee3\u7801\n",
      "```python\n",
      "def run_cli(arguments):\n",
      "    RobotFramework().execute_cli(arguments)\n",
      "\n",
      "\n",
      "def run(*datasources, **options):\n",
      "    return RobotFramework().execute(*datasources, **options)\n",
      "```"
     ]
    },
    {
     "cell_type": "markdown",
     "metadata": {},
     "source": [
      "----"
     ]
    },
    {
     "cell_type": "heading",
     "level": 3,
     "metadata": {},
     "source": [
      "robot.model"
     ]
    },
    {
     "cell_type": "markdown",
     "metadata": {},
     "source": [
      "\u7c7b\u4f3c\u901a\u5e38**MVC**\u6846\u67b6\u4e2d\u7684model, \u662fRobotFramework\u4e2d\u7684\u6570\u636e\u62bd\u8c61\u5c42.\n",
      "robot.model\u4e2d\u7684\u4ee3\u7801\u5927\u81f4\u5305\u542b\u4ee5\u4e0b\u51e0\u7c7b:\n",
      "\n",
      "* \u57fa\u672c\u7c7b\u578b\n",
      "* RobotFramework  suite/case/keyword\u7b49\u7684\u62bd\u8c61\n",
      "* \u6784\u5efa\u4e0a\u8ff0\u62bd\u8c61\u7c7b\u7684\u5de5\u5382\n",
      "* \u5bf9\u62bd\u8c61\u7c7b\u7684\u88c5\u9970(\u5982filter)\n",
      "* visitor"
     ]
    },
    {
     "cell_type": "code",
     "collapsed": false,
     "input": [
      "# \u57fa\u672c\u7c7b\u578b\n",
      "from robot.model.modelobject import ModelObject\n",
      "from robot.model.itemlist import ItemList"
     ],
     "language": "python",
     "metadata": {},
     "outputs": [],
     "prompt_number": 23
    },
    {
     "cell_type": "code",
     "collapsed": false,
     "input": [
      "# RobotFramework suite/case/keyword\u7b49\u7684\u62bd\u8c61\n",
      "from robot.model.testsuite import TestSuite, TestSuites\n",
      "from robot.model.testcase import TestCase, TestCases\n",
      "from robot.model.imports import Import, Imports\n",
      "from robot.model.keyword import Keyword, Keywords\n",
      "from robot.model.message import Message, Messages\n",
      "from robot.model.metadata import Metadata\n",
      "from robot.model.tags import Tags\n",
      "from robot.model.suitestatistics import SuiteStatistics\n",
      "from robot.model.tagstatistics import TagStatistics\n",
      "from robot.model.totalstatistics import TotalStatistics\n",
      "from robot.model.stats import SuiteStat, TagStat, TotalStat"
     ],
     "language": "python",
     "metadata": {},
     "outputs": [],
     "prompt_number": 28
    },
    {
     "cell_type": "code",
     "collapsed": false,
     "input": [
      "# \u6784\u5efa\u62bd\u8c61\u7c7b\u7684\u5de5\u5382\n",
      "from robot.model.configurer import SuiteConfigurer\n",
      "from robot.model.statistics import  StatisticsBuilder\n",
      "from robot.model.suitestatistics import  SuiteStatisticsBuilder\n",
      "from robot.model.tagstatistics import  TagStatisticsBuilder\n",
      "from robot.model.totalstatistics import TotalStatisticsBuilder"
     ],
     "language": "python",
     "metadata": {},
     "outputs": [],
     "prompt_number": 29
    },
    {
     "cell_type": "code",
     "collapsed": false,
     "input": [
      "# \u5bf9\u62bd\u8c61\u7c7b\u7684\u88c5\u9970\n",
      "from robot.model.tags import TagPattern, TagPatterns # NOT, AND, OR\n",
      "from robot.model.criticality import Criticality"
     ],
     "language": "python",
     "metadata": {},
     "outputs": [],
     "prompt_number": 30
    },
    {
     "cell_type": "code",
     "collapsed": false,
     "input": [
      "# visitor\n",
      "from robot.model.visitor import SuiteVisitor, SkipAllVisitor\n",
      "from robot.model.tagsetter import  TagSetter\n",
      "from robot.model.filter import  Filter, EmptySuiteRemover"
     ],
     "language": "python",
     "metadata": {},
     "outputs": []
    },
    {
     "cell_type": "markdown",
     "metadata": {},
     "source": [
      "----"
     ]
    },
    {
     "cell_type": "heading",
     "level": 3,
     "metadata": {},
     "source": [
      "robot.parsing"
     ]
    },
    {
     "cell_type": "markdown",
     "metadata": {},
     "source": [
      "\u987e\u540d\u601d\u4e49, robot.parsing\u662fRobotFramework\u7684\u89e3\u6790\u6a21\u5757,\u8d1f\u8d23\u5c06suite\u6587\u4ef6\u6216\u76ee\u5f55\u89e3\u6790\u6210RobotFramework\u81ea\u5df1\u7684\u6570\u636e\u7ed3\u6784. "
     ]
    },
    {
     "cell_type": "code",
     "collapsed": false,
     "input": [
      "# case\u6587\u4ef6\u6216\u76ee\u5f55\u7684\u89e3\u6790\u6a21\u5757\n",
      "from robot.parsing.htmlreader import  HtmlReader\n",
      "from robot.parsing.restreader import RestReader\n",
      "from robot.parsing.txtreader import TxtReader\n",
      "from robot.parsing.tsvreader import TsvReader"
     ],
     "language": "python",
     "metadata": {},
     "outputs": [],
     "prompt_number": 31
    },
    {
     "cell_type": "markdown",
     "metadata": {},
     "source": [
      "\u6700\u4e3b\u8981\u7684\u63a5\u53e3 - TestData"
     ]
    },
    {
     "cell_type": "code",
     "collapsed": false,
     "input": [
      "# case\u6587\u4ef6\u6216\u76ee\u5f55\u5230model\u7684\u8f6c\u6362 - robot.parsing.model.TestData\n",
      "from robot.parsing.model import  TestData\n",
      "from robot.api import TestData # \u4e5f\u53ef\u4ee5\u76f4\u63a5\u7528api\u8c03\u7528, \u8fd9\u6837\u66f4\u597d"
     ],
     "language": "python",
     "metadata": {},
     "outputs": [],
     "prompt_number": 32
    },
    {
     "cell_type": "code",
     "collapsed": false,
     "input": [
      "# \u884c\u89e3\u6790robot.parsing.datarow\n",
      "from robot.parsing.datarow import DataRow"
     ],
     "language": "python",
     "metadata": {},
     "outputs": [],
     "prompt_number": 33
    },
    {
     "cell_type": "code",
     "collapsed": false,
     "input": [
      "# settings_table\u7684\u6570\u636e\u7ed3\u6784robot.parsing.settings\n",
      "from robot.parsing.settings import Documentation, Library, Metadata, Resource # ..."
     ],
     "language": "python",
     "metadata": {},
     "outputs": []
    },
    {
     "cell_type": "markdown",
     "metadata": {},
     "source": [
      "----"
     ]
    },
    {
     "cell_type": "heading",
     "level": 3,
     "metadata": {},
     "source": [
      "robot.running"
     ]
    },
    {
     "cell_type": "markdown",
     "metadata": {},
     "source": [
      "robot.running\u662fRobotFramework\u8fd0\u884c\u65f6\u7684\u4e3b\u8981\u6a21\u5757, RobotFramework\u7684\u6574\u4e2a\u8fd0\u884c\u9636\u6bb5\u57fa\u672c\u90fd\u4e0e\u5b83\u76f8\u5173"
     ]
    },
    {
     "cell_type": "heading",
     "level": 4,
     "metadata": {},
     "source": [
      "TestSuiteBuilder - \u521b\u5efa\u8fd0\u884c\u65f6\u7684TestSuite"
     ]
    },
    {
     "cell_type": "code",
     "collapsed": false,
     "input": [
      "from robot.running.builder import TestSuiteBuilder\n",
      "from robot.api import TestSuiteBuilder # \u4e5f\u53ef\u4ee5\u76f4\u63a5\u901a\u8fc7api\u8c03\u7528,\u8fd9\u6837\u66f4\u597d\n",
      "suite = TestSuiteBuilder().build('examples/kw-driven.robot')\n",
      "print suite"
     ],
     "language": "python",
     "metadata": {},
     "outputs": [
      {
       "output_type": "stream",
       "stream": "stdout",
       "text": [
        "Kw-Driven\n"
       ]
      }
     ],
     "prompt_number": 40
    },
    {
     "cell_type": "heading",
     "level": 4,
     "metadata": {},
     "source": [
      "EXECUTION_CONTEXTS - \u8fd0\u884c\u65f6\u7684\u6240\u6709\u4fe1\u606f"
     ]
    },
    {
     "cell_type": "code",
     "collapsed": false,
     "input": [
      "from robot.running.context import EXECUTION_CONTEXTS\n",
      "print EXECUTION_CONTEXTS.current # \u5f53\u524dsuite\u7684context"
     ],
     "language": "python",
     "metadata": {},
     "outputs": [
      {
       "output_type": "stream",
       "stream": "stdout",
       "text": [
        "None\n"
       ]
      }
     ],
     "prompt_number": 46
    },
    {
     "cell_type": "heading",
     "level": 4,
     "metadata": {},
     "source": [
      "model - \u8fd0\u884c\u65f6\u7684\u6a21\u578b\u62bd\u8c61"
     ]
    },
    {
     "cell_type": "code",
     "collapsed": false,
     "input": [
      "from robot.running.model import TestCase, TestSuite\n",
      "from robot.running.keywords import Keyword, Keywords\n",
      "from robot.running.status import SuiteStatus, TestStatus\n",
      "from robot.running.userkeyword import UserLibrary # \u8fd8\u6709\u5176\u5b83\u6a21\u578b\u62bd\u8c61\n",
      "from robot.running.testlibraries import TestLibrary"
     ],
     "language": "python",
     "metadata": {},
     "outputs": [],
     "prompt_number": 70
    },
    {
     "cell_type": "heading",
     "level": 4,
     "metadata": {},
     "source": [
      "\u57fa\u672c\u7c7b\u578b"
     ]
    },
    {
     "cell_type": "code",
     "collapsed": false,
     "input": [
      "from robot.running.baselibrary import BaseLibrary\n",
      "from robot.running.dynamicmethods import RunKeyword\n",
      "from robot.running.handlers import Handler"
     ],
     "language": "python",
     "metadata": {},
     "outputs": [],
     "prompt_number": 71
    },
    {
     "cell_type": "heading",
     "level": 4,
     "metadata": {},
     "source": [
      "\u4f20\u9012\u7ed9\u67d0\u4e2a\u5177\u4f53\u7684suite\u7684\u8fd0\u884c\u6570\u636e"
     ]
    },
    {
     "cell_type": "code",
     "collapsed": false,
     "input": [
      "from robot.running.namespace import Namespace"
     ],
     "language": "python",
     "metadata": {},
     "outputs": [],
     "prompt_number": 47
    },
    {
     "cell_type": "heading",
     "level": 4,
     "metadata": {},
     "source": [
      "Runner - \u5b9e\u9645\u6267\u884csuite\u7684class"
     ]
    },
    {
     "cell_type": "code",
     "collapsed": false,
     "input": [
      "from robot.running.runner import Runner\n",
      "# dir(Runner) # \u53ef\u4ee5\u770b\u5230\u5982start_suite\u7b49\u65b9\u6cd5"
     ],
     "language": "python",
     "metadata": {},
     "outputs": []
    },
    {
     "cell_type": "heading",
     "level": 4,
     "metadata": {},
     "source": [
      "suite\u8fd0\u884c\u65f6\u7684\u9ed8\u8ba4\u6570\u636e"
     ]
    },
    {
     "cell_type": "code",
     "collapsed": false,
     "input": [
      "from robot.running.defaults import TestDefaults,TestValues"
     ],
     "language": "python",
     "metadata": {},
     "outputs": []
    },
    {
     "cell_type": "heading",
     "level": 4,
     "metadata": {},
     "source": [
      "signal\u76d1\u63a7 - \u5904\u7406stop gracefully\u7b49"
     ]
    },
    {
     "cell_type": "code",
     "collapsed": false,
     "input": [
      "from robot.running.signalhandler import STOP_SIGNAL_MONITOR"
     ],
     "language": "python",
     "metadata": {},
     "outputs": [],
     "prompt_number": 51
    },
    {
     "cell_type": "heading",
     "level": 4,
     "metadata": {},
     "source": [
      "arguments\u5904\u7406"
     ]
    },
    {
     "cell_type": "code",
     "collapsed": false,
     "input": [
      "from robot.running.arguments import argumentparser # ..."
     ],
     "language": "python",
     "metadata": {},
     "outputs": [],
     "prompt_number": 53
    },
    {
     "cell_type": "heading",
     "level": 4,
     "metadata": {},
     "source": [
      "timeout\u5904\u7406"
     ]
    },
    {
     "cell_type": "code",
     "collapsed": false,
     "input": [
      "from robot.running.timeouts import Timeout"
     ],
     "language": "python",
     "metadata": {},
     "outputs": [],
     "prompt_number": 54
    },
    {
     "cell_type": "heading",
     "level": 4,
     "metadata": {},
     "source": [
      "defaults - \u8fd0\u884c\u65f6\u7684\u9ed8\u8ba4\u6570\u636e"
     ]
    },
    {
     "cell_type": "code",
     "collapsed": false,
     "input": [
      "from robot.running.defaults import TestDefaults # \u57fa\u4e8erobot.parsing.model.TestData\u5f97\u5230\u7684setting_table\n",
      "from robot.running.defaults import TestValues # \u57fa\u4e8erobot.parsing.model.TestData\u5f97\u5230\u7684testcase_table\n",
      "from robot.api import TestData\n",
      "data = TestData(source='examples/kw-driven.robot')\n",
      "defaults = TestDefaults(data.setting_table)\n",
      "values = TestValues(data.testcase_table.tests[0], defaults)\n",
      "#print values.template, values.timeout, values.tags"
     ],
     "language": "python",
     "metadata": {},
     "outputs": [],
     "prompt_number": 69
    },
    {
     "cell_type": "heading",
     "level": 4,
     "metadata": {},
     "source": [
      "\u67d0\u4e9b\u5de5\u5177\u7c7b"
     ]
    },
    {
     "cell_type": "code",
     "collapsed": false,
     "input": [
      "from robot.running.importer import Importer\n",
      "from robot.running.outputcapture import OutputCapturer\n",
      "from robot.running.randomizer import Randomizer\n",
      "from robot.running.runkwregister import RUN_KW_REGISTER\n",
      "from robot.running.usererrorhandler import UserErrorHandler"
     ],
     "language": "python",
     "metadata": {},
     "outputs": [],
     "prompt_number": 72
    },
    {
     "cell_type": "markdown",
     "metadata": {},
     "source": [
      "----"
     ]
    },
    {
     "cell_type": "heading",
     "level": 3,
     "metadata": {},
     "source": [
      "robot.result"
     ]
    },
    {
     "cell_type": "markdown",
     "metadata": {},
     "source": [
      "**robot.result**\u662fXML output\u7684\u89e3\u6790\u6a21\u5757, \u5b83\u7684\u4e3b\u8981\u529f\u80fd\u662f\u5c06output.xml\u8f6c\u6362\u4e3aResult\u5bf9\u8c61"
     ]
    },
    {
     "cell_type": "code",
     "collapsed": false,
     "input": [
      "# \u4eceoutput.xml\u6587\u4ef6\u521b\u5efaResult\u5bf9\u8c61\n",
      "from robot.result import  ExecutionResult\n",
      "result = ExecutionResult('output.xml')"
     ],
     "language": "python",
     "metadata": {},
     "outputs": []
    },
    {
     "cell_type": "code",
     "collapsed": false,
     "input": [
      "#  Result vs. CombinedResult\n",
      "from robot.result.resultbuilder import CombinedResult, Result, Merger"
     ],
     "language": "python",
     "metadata": {},
     "outputs": []
    },
    {
     "cell_type": "heading",
     "level": 4,
     "metadata": {},
     "source": [
      "result\u9636\u6bb5\u7684model"
     ]
    },
    {
     "cell_type": "code",
     "collapsed": false,
     "input": [
      "from robot.result.testsuite import TestSuite\n",
      "from robot.result.testcase import  TestCase\n",
      "from robot.result.keyword import Keyword"
     ],
     "language": "python",
     "metadata": {},
     "outputs": []
    },
    {
     "cell_type": "markdown",
     "metadata": {},
     "source": [
      "----"
     ]
    },
    {
     "cell_type": "heading",
     "level": 3,
     "metadata": {},
     "source": [
      "robot.reporting"
     ]
    },
    {
     "cell_type": "markdown",
     "metadata": {},
     "source": [
      "**robot.reporting**\u4e3b\u8981\u7528\u4e8e\u751f\u6210log.html\u548creport.html, \u9664\u6b64\u4ee5\u5916, \u5b83\u7684\u529f\u80fd\u8fd8\u6709:\n",
      "\n",
      "* \u751f\u6210\u65b0\u7684output.xml\n",
      "* log.html\u4e2djs\u90e8\u5206\u7684\u751f\u6210\u5668 (\u7528\u4e8e\u52a8\u6001\u52a0\u8f7d\u4f18\u5316\u6027\u80fd\u548c\u89e3\u51b3\u5185\u5b58\u95ee\u9898)"
     ]
    },
    {
     "cell_type": "code",
     "collapsed": false,
     "input": [
      "# log.html & report.html\n",
      "from robot.reporting.resultwriter import ResultWriter, ReportWriter"
     ],
     "language": "python",
     "metadata": {},
     "outputs": [],
     "prompt_number": 73
    },
    {
     "cell_type": "code",
     "collapsed": false,
     "input": [
      "# output.xml\n",
      "from robot.reporting.outputwriter import OutputWriter"
     ],
     "language": "python",
     "metadata": {},
     "outputs": [],
     "prompt_number": 74
    },
    {
     "cell_type": "code",
     "collapsed": false,
     "input": [
      "# js writer\n",
      "from robot.reporting.jswriter import JsResultWriter, SplitLogWriter, JsonWriter"
     ],
     "language": "python",
     "metadata": {},
     "outputs": [],
     "prompt_number": 75
    },
    {
     "cell_type": "markdown",
     "metadata": {},
     "source": [
      "----"
     ]
    },
    {
     "cell_type": "heading",
     "level": 2,
     "metadata": {},
     "source": [
      "\u4e0d\u540c\u9636\u6bb5\u7684model"
     ]
    },
    {
     "cell_type": "markdown",
     "metadata": {},
     "source": [
      "\u5728\u4e0d\u540c\u7684\u9636\u6bb5\u90fd\u6709\u5bf9\u5e94\u7684model, \u53e6\u5916robot\u8fd8\u6709\u4e00\u4e2arobot.model\u6a21\u5757.\n",
      "\n",
      "\u5927\u90e8\u5206\u7684model\u90fd\u7ee7\u627f\u81earobot.model\u4e2d\u7684\u76f8\u5173\u7c7b.\n",
      "\n",
      "\u4f46\u662frobot.parsing.model\u9664\u5916. \u6000\u7591\u662fRobotFramework\u7684\u9057\u7559\u4ee3\u7801\u6ca1\u6709\u91cd\u6784\u5b8c\u5bfc\u81f4\u7684.\n",
      "\n",
      "* robot.model\n",
      "* robot.parsing.model\n",
      "* robot.running.model\n",
      "* robot.result.\"model\""
     ]
    },
    {
     "cell_type": "markdown",
     "metadata": {},
     "source": [
      "----"
     ]
    },
    {
     "cell_type": "raw",
     "metadata": {},
     "source": [
      "\u8ba9\u6211\u4eec\u901a\u8fc7\u4e00\u4e9b\u95ee\u9898\u6765\u7ec4\u7ec7\u4e00\u4e0b\u524d\u9762\u7684\u5185\u5bb9"
     ]
    },
    {
     "cell_type": "heading",
     "level": 2,
     "metadata": {},
     "source": [
      "Q: \u4f60\u77e5\u9053\u6267\u884cpybot\u540eRobotFramework\u90fd\u505a\u4e86\u4e9b\u4ec0\u4e48\u5417?"
     ]
    },
    {
     "cell_type": "markdown",
     "metadata": {},
     "source": [
      "* \u5b9e\u4f8b\u5316robot.run.RobotFramework\n",
      "* \u547d\u4ee4\u884c\u53c2\u6570\u89e3\u6790\n",
      "* \u5b9e\u4f8b\u5316RobotSettings\n",
      "* \u8bbe\u7f6eLOGGER\n",
      "* \u751f\u6210TestSuite\n",
      "* \u6267\u884cTestSuite\n",
      "* \u5199\u5165log\u548creport\n",
      "* \u5224\u65ad\u6d4b\u8bd5\u7ed3\u679c\n",
      "* \u7ed3\u675f\u8fdb\u7a0b"
     ]
    },
    {
     "cell_type": "markdown",
     "metadata": {},
     "source": [
      "\u8fd9\u91cc\u5199\u5165log\u548creport\u4e3aoptional\u6b65\u9aa4"
     ]
    },
    {
     "cell_type": "code",
     "collapsed": false,
     "input": [
      "from robot.run import run_cli\n",
      "run_cli(['examples/kw-driven.robot'])"
     ],
     "language": "python",
     "metadata": {},
     "outputs": [
      {
       "ename": "SystemExit",
       "evalue": "0",
       "output_type": "pyerr",
       "traceback": [
        "An exception has occurred, use %tb to see the full traceback.\n",
        "\u001b[1;31mSystemExit\u001b[0m\u001b[1;31m:\u001b[0m 0\n"
       ]
      },
      {
       "output_type": "stream",
       "stream": "stderr",
       "text": [
        "To exit: use 'exit', 'quit', or Ctrl-D.\n"
       ]
      }
     ],
     "prompt_number": 82
    },
    {
     "cell_type": "heading",
     "level": 2,
     "metadata": {},
     "source": [
      "Q: \u4f60\u77e5\u9053RobotFramework\u662f\u600e\u4e48\u627e\u5230\u6307\u5b9a\u7684keyword\u7684\u5417?"
     ]
    },
    {
     "cell_type": "markdown",
     "metadata": {},
     "source": [
      "1. \u5f53\u524dcase\u4e2d\u7684user keyword\n",
      "1. resource\u6587\u4ef6\u4e2d\u5b9a\u4e49\u7684user keyword\n",
      "1. library\u4e2d\u5b9a\u4e49\u7684keyword"
     ]
    },
    {
     "cell_type": "code",
     "collapsed": false,
     "input": [
      "# \u76f8\u5173\u4ee3\u7801\n",
      "# robot.running.namespace\n",
      "def _get_implicit_handler(self, name):\n",
      "    for method in [self._get_handler_from_test_case_file_user_keywords,\n",
      "                   self._get_handler_from_resource_file_user_keywords,\n",
      "                   self._get_handler_from_library_keywords]:\n",
      "        handler = method(name)\n",
      "        if handler:\n",
      "            return handler\n",
      "    return None"
     ],
     "language": "python",
     "metadata": {},
     "outputs": []
    },
    {
     "cell_type": "heading",
     "level": 2,
     "metadata": {},
     "source": [
      "Q: \u4f60\u77e5\u9053RobotFramework\u662f\u5982\u4f55\u5bfc\u5165Library\u7684?"
     ]
    },
    {
     "cell_type": "markdown",
     "metadata": {},
     "source": [
      "1. \u5c06library\u540d\u5b57import\u4e3aclass\u6216\u8005module\n",
      "1. \u6839\u636e\u4e0d\u540c\u7684library\u7c7b\u578b\u751f\u6210\u5bf9\u5e94\u7684Library class"
     ]
    },
    {
     "cell_type": "code",
     "collapsed": false,
     "input": [
      "# \u76f8\u5173\u4ee3\u7801\n",
      "# robot.running.testlibraries\n",
      "def TestLibrary(name, args=None, variables=None, create_handlers=True):\n",
      "    with OutputCapturer(library_import=True):\n",
      "        importer = Importer('test library')\n",
      "        libcode = importer.import_class_or_module(name)\n",
      "    libclass = _get_lib_class(libcode)\n",
      "    lib = libclass(libcode, name, args or [], variables)\n",
      "    if create_handlers:\n",
      "        lib.create_handlers()\n",
      "    return lib"
     ],
     "language": "python",
     "metadata": {},
     "outputs": [],
     "prompt_number": 83
    },
    {
     "cell_type": "code",
     "collapsed": false,
     "input": [
      "# \u5f15\u7533: module library\u7684keyword\u6765\u6e90\n",
      "\n",
      "# robot.running.testlibraries\n",
      "# \u52a8\u6001library\u7684keywords\u5217\u8868\n",
      "def _get_handler_names(self, instance):\n",
      "    try:\n",
      "        return instance.get_keyword_names()\n",
      "    except AttributeError:\n",
      "        return instance.getKeywordNames()\n",
      "\n",
      "# robot.running.namespace\n",
      "# \u5904\u7406keyword\u540d\u5b57\u7684\u65b9\u5f0f\n",
      "def _get_handler(self, name):\n",
      "    handler = None\n",
      "    if not name:\n",
      "        raise DataError('Keyword name cannot be empty.')\n",
      "    if not isinstance(name, basestring):\n",
      "        raise DataError('Keyword name must be a string.')\n",
      "    if '.' in name:\n",
      "        handler = self._get_explicit_handler(name)\n",
      "    if not handler:\n",
      "        handler = self._get_implicit_handler(name)\n",
      "    if not handler:\n",
      "        handler = self._get_bdd_style_handler(name)\n",
      "    if not handler:\n",
      "        handler = self._get_x_times_handler(name)\n",
      "    return handler"
     ],
     "language": "python",
     "metadata": {},
     "outputs": [],
     "prompt_number": 85
    },
    {
     "cell_type": "heading",
     "level": 2,
     "metadata": {},
     "source": [
      "Q: \u4f60\u77e5\u9053suite\u7684\u9ed8\u8ba4\u6267\u884c\u987a\u5e8f\u662f\u4ec0\u4e48\u5417?"
     ]
    },
    {
     "cell_type": "markdown",
     "metadata": {},
     "source": [
      "![suite order](img/suite.png)"
     ]
    },
    {
     "cell_type": "code",
     "collapsed": false,
     "input": [
      "# \u76f8\u5173\u4ee3\u7801\n",
      "# robot.parsing.populators.FromDirectoryPopulator\n",
      "def _list_dir(self, path):\n",
      "    # os.listdir returns Unicode entries when path is Unicode\n",
      "    names = os.listdir(unic(path))\n",
      "    for name in sorted(names, key=unicode.lower):\n",
      "        # unic needed to handle nfc/nfd normalization on OSX\n",
      "        yield unic(name), unic(os.path.join(path, name))"
     ],
     "language": "python",
     "metadata": {},
     "outputs": [],
     "prompt_number": 86
    },
    {
     "cell_type": "heading",
     "level": 2,
     "metadata": {},
     "source": [
      "Q: \u4f60\u77e5\u9053suite\u7684\u968f\u673a\u6267\u884c\u987a\u5e8f\u662f\u4ec0\u4e48\u6837\u7684\u5417?"
     ]
    },
    {
     "cell_type": "code",
     "collapsed": false,
     "input": [
      "from robot.model.visitor import SuiteVisitor\n",
      "class Randomizer(SuiteVisitor):\n",
      "\n",
      "    def __init__(self, randomize_suites=True, randomize_tests=True, seed=None):\n",
      "        # ......\n",
      "        args = (seed,) if seed is not None else ()\n",
      "        self._shuffle = Random(*args).shuffle\n",
      "\n",
      "    def start_suite(self, suite):\n",
      "        # ......\n",
      "        if self.randomize_suites:\n",
      "            self._shuffle(suite.suites)\n",
      "        if self.randomize_tests:\n",
      "            self._shuffle(suite.tests)\n",
      "        # ......\n",
      "        \n",
      "# \u7c7b\u4f3c\u6548\u679c\u5982\u4e0b:\n",
      "from random import Random\n",
      "shuffle = Random().shuffle\n",
      "_set = range(10)\n",
      "shuffle(_set)\n",
      "_set"
     ],
     "language": "python",
     "metadata": {},
     "outputs": [
      {
       "metadata": {},
       "output_type": "pyout",
       "prompt_number": 90,
       "text": [
        "[8, 4, 6, 9, 5, 0, 1, 3, 2, 7]"
       ]
      }
     ],
     "prompt_number": 90
    },
    {
     "cell_type": "heading",
     "level": 2,
     "metadata": {},
     "source": [
      "Q: \u4f60\u77e5\u9053Listener\u662f\u600e\u4e48\u5de5\u4f5c\u7684\u5417?"
     ]
    },
    {
     "cell_type": "markdown",
     "metadata": {},
     "source": [
      "* robot.output.listeners\n",
      "* \u5c06listeners\u8ffd\u52a0\u5230LOGGER\n",
      "* \u8fdb\u884cLOGGER\u64cd\u4f5c\u7684\u65f6\u5019\u6267\u884clistener\u7684\u5bf9\u5e94\u63a5\u53e3"
     ]
    },
    {
     "cell_type": "heading",
     "level": 2,
     "metadata": {},
     "source": [
      "Q: \u4f60\u77e5\u9053RobotFramework\u7684Stop Gracefully\u662f\u600e\u4e48\u5b9e\u73b0\u7684\u5417?"
     ]
    },
    {
     "cell_type": "code",
     "collapsed": false,
     "input": [
      "# robot.running.model.TestSuite\u7684run\u65b9\u6cd5\n",
      "# robot.running.signalhandler\n",
      "# \u901a\u8fc7signal.signal\u6765\u5b9e\u73b0Ctrl+C\u7684\u76d1\u542c\n",
      "from robot.running.signalhandler import STOP_SIGNAL_MONITOR\n",
      "from robot.output import pyloggingconf\n",
      "\n",
      "def xxx():\n",
      "    with pyloggingconf.robot_handler_enabled(settings.log_level):\n",
      "        with STOP_SIGNAL_MONITOR:\n",
      "            IMPORTER.reset()\n",
      "            init_global_variables(settings)\n",
      "            output = Output(settings)\n",
      "            runner = Runner(output, settings)\n",
      "            self.visit(runner)\n",
      "        output.close(runner.result)\n",
      "    return runner.result\n",
      "\n"
     ],
     "language": "python",
     "metadata": {},
     "outputs": [],
     "prompt_number": 93
    },
    {
     "cell_type": "heading",
     "level": 2,
     "metadata": {},
     "source": [
      "Q: \u4f60\u77e5\u9053RobotFramework\u7684Test Timeout\u662f\u600e\u4e48\u505a\u7684\u5417?"
     ]
    },
    {
     "cell_type": "markdown",
     "metadata": {},
     "source": [
      "* \u6267\u884c\u65f6\u5728\u5f00\u59cb\u6267\u884ctest\u6216keyword\u7684\u65f6\u5019, \u8bbe\u7f6eTimeout\n",
      "    * robot.running.model.TestCase\n",
      "* \u4ee5Python2.7 Linux\u5e73\u53f0\u4e3a\u4f8b\n",
      "    * robot.running.timeouts.timeoutsignaling.Timeout\n",
      "* \u901a\u8fc7signal\u6a21\u5757\u7684setitimer\u548cSIGALRM\u4fe1\u53f7\u6765\u5b9e\u73b0"
     ]
    },
    {
     "cell_type": "code",
     "collapsed": false,
     "input": [
      "from signal import signal, setitimer, SIGALRM, ITIMER_REAL\n",
      "def show_error(signum, frame):\n",
      "    print 'timeout got'\n",
      "signal(SIGALRM, show_error)\n",
      "setitimer(ITIMER_REAL, 5)"
     ],
     "language": "python",
     "metadata": {},
     "outputs": [
      {
       "metadata": {},
       "output_type": "pyout",
       "prompt_number": 95,
       "text": [
        "(0.0, 0.0)"
       ]
      }
     ],
     "prompt_number": 95
    },
    {
     "cell_type": "markdown",
     "metadata": {},
     "source": [
      "----"
     ]
    },
    {
     "cell_type": "heading",
     "level": 2,
     "metadata": {},
     "source": [
      "\u7ec3\u4e60\u4e00: \u9605\u8bfb\u76f8\u5173\u4ee3\u7801, \u7406\u6e05RobotFramework\u662f\u600e\u4e48\u5199\u5165log\u7684"
     ]
    },
    {
     "cell_type": "heading",
     "level": 2,
     "metadata": {},
     "source": [
      "\u7ec3\u4e60\u4e8c: \u9605\u8bfb\u76f8\u5173\u4ee3\u7801, \u7406\u6e05dry-run\u662f\u600e\u4e48\u5b9e\u73b0\u7684,\u6709\u54ea\u4e9b\u5c40\u9650\u6027"
     ]
    }
   ],
   "metadata": {}
  }
 ]
}