{
 "cells": [
  {
   "cell_type": "markdown",
   "metadata": {
    "slideshow": {
     "slide_type": "slide"
    }
   },
   "source": [
    "# 2. Dive Into RobotFramework\n",
    "\n",
    "![RobotFramework](/files/img/robotframework.png \"RobotFramework\")"
   ]
  },
  {
   "cell_type": "markdown",
   "metadata": {
    "slideshow": {
     "slide_type": "slide"
    }
   },
   "source": [
    "### RobotFramework的开发和维护"
   ]
  },
  {
   "cell_type": "markdown",
   "metadata": {
    "slideshow": {
     "slide_type": "fragment"
    }
   },
   "source": [
    "* open source，所有的代码、文档、issue都在[github](https://github.com/robotframework/robotframework)上\n",
    "* master分支总是可用的\n",
    "* UT & AT\n",
    "* 使用**pull request**来进行code review\n",
    "* 使用milestone来进行项目进度管理,如https://github.com/robotframework/robotframework/milestones"
   ]
  },
  {
   "cell_type": "markdown",
   "metadata": {
    "slideshow": {
     "slide_type": "subslide"
    }
   },
   "source": [
    "### RobotFramework的测试"
   ]
  },
  {
   "cell_type": "markdown",
   "metadata": {
    "slideshow": {
     "slide_type": "fragment"
    }
   },
   "source": [
    "#### Unit Testing\n",
    "\n",
    "```sh\n",
    "python utest/run_utests.py\n",
    "```"
   ]
  },
  {
   "cell_type": "markdown",
   "metadata": {
    "slideshow": {
     "slide_type": "fragment"
    }
   },
   "source": [
    "#### Acceptance Testing\n",
    "\n",
    "```sh\n",
    "python atest/run_atests.py python robot\n",
    "```"
   ]
  },
  {
   "cell_type": "markdown",
   "metadata": {
    "slideshow": {
     "slide_type": "slide"
    }
   },
   "source": [
    "### RobotFramework的整体工作流\n",
    "\n",
    "![RobotFramework Workflow](img/robot_workflow.svg \"RobotFramework Workflow\")"
   ]
  },
  {
   "cell_type": "markdown",
   "metadata": {
    "slideshow": {
     "slide_type": "slide"
    }
   },
   "source": [
    "### 从pybot命令行开始。。。"
   ]
  },
  {
   "cell_type": "code",
   "execution_count": null,
   "metadata": {
    "collapsed": false,
    "slideshow": {
     "slide_type": "subslide"
    }
   },
   "outputs": [],
   "source": [
    "#!/usr/bin/python\n",
    "#/usr/local/bin/pybot\n",
    "\n",
    "import sys\n",
    "from robot import run_cli\n",
    "\n",
    "run_cli(sys.argv[1:])\n"
   ]
  },
  {
   "cell_type": "code",
   "execution_count": null,
   "metadata": {
    "collapsed": true,
    "slideshow": {
     "slide_type": "subslide"
    }
   },
   "outputs": [],
   "source": [
    "# robot.run.run_cli\n",
    "\n",
    "def run_cli(arguments):\n",
    "    \"\"\"Command line execution entry point for running tests.\n",
    "\n",
    "    :param arguments: Command line arguments as a list of strings.\n",
    "\n",
    "    For programmatic usage the :func:`run` function is typically better. It has\n",
    "    a better API for that usage and does not call :func:`sys.exit` like this\n",
    "    function.\n",
    "\n",
    "    Example::\n",
    "\n",
    "        from robot import run_cli\n",
    "\n",
    "        run_cli(['--include', 'tag', 'path/to/tests.html'])\n",
    "    \"\"\"\n",
    "    RobotFramework().execute_cli(arguments)"
   ]
  },
  {
   "cell_type": "code",
   "execution_count": null,
   "metadata": {
    "collapsed": false,
    "slideshow": {
     "slide_type": "subslide"
    }
   },
   "outputs": [],
   "source": [
    "# robot.run.RobotFramework\n",
    "\n",
    "class RobotFramework(Application):\n",
    "\n",
    "    def __init__(self):\n",
    "        Application.__init__(self, USAGE, arg_limits=(1,),\n",
    "                             env_options='ROBOT_OPTIONS', logger=LOGGER)\n",
    "\n",
    "    def main(self, datasources, **options):\n",
    "        settings = RobotSettings(options)\n",
    "        LOGGER.register_console_logger(**settings.console_logger_config)\n",
    "        LOGGER.info('Settings:\\n%s' % unicode(settings))\n",
    "        suite = TestSuiteBuilder(settings['SuiteNames'],\n",
    "                                 settings['WarnOnSkipped'],\n",
    "                                 settings['RunEmptySuite']).build(*datasources)\n",
    "        suite.configure(**settings.suite_config)\n",
    "        with pyloggingconf.robot_handler_enabled(settings.log_level):\n",
    "            result = suite.run(settings)\n",
    "            LOGGER.info(\"Tests execution ended. Statistics:\\n%s\"\n",
    "                        % result.suite.stat_message)\n",
    "            if settings.log or settings.report or settings.xunit:\n",
    "                writer = ResultWriter(settings.output if settings.log\n",
    "                                      else result)\n",
    "                writer.write_results(settings.get_rebot_settings())\n",
    "        return result.return_code\n",
    "\n",
    "    def validate(self, options, arguments):\n",
    "        return self._filter_options_without_value(options), arguments\n",
    "\n",
    "    def _filter_options_without_value(self, options):\n",
    "        return dict((name, value) for name, value in options.items() if value)"
   ]
  },
  {
   "cell_type": "code",
   "execution_count": null,
   "metadata": {
    "collapsed": true,
    "slideshow": {
     "slide_type": "subslide"
    }
   },
   "outputs": [],
   "source": [
    "# robot.utils.application.Application\n",
    "class Application(object):\n",
    "\n",
    "    def __init__(self, usage, name=None, version=None, arg_limits=None,\n",
    "                 env_options=None, logger=None, **auto_options):\n",
    "        self._ap = ArgumentParser(usage, name, version, arg_limits,\n",
    "                                  self.validate, env_options, **auto_options)\n",
    "        self._logger = logger or DefaultLogger()\n",
    "\n",
    "    def main(self, arguments, **options):\n",
    "        raise NotImplementedError\n",
    "\n",
    "    def execute_cli(self, cli_arguments):\n",
    "        with self._logging():\n",
    "            options, arguments = self._parse_arguments(cli_arguments)\n",
    "            rc = self._execute(arguments, options)\n",
    "        self._exit(rc)\n",
    "\n",
    "    def execute(self, *arguments, **options):\n",
    "        with self._logging():\n",
    "            return self._execute(list(arguments), options)\n",
    "\n",
    "    def _execute(self, arguments, options):\n",
    "        try:\n",
    "            rc = self.main(arguments, **options)\n",
    "        except DataError, err:\n",
    "            return self._report_error(unicode(err), help=True)\n",
    "        except (KeyboardInterrupt, SystemExit):\n",
    "            return self._report_error('Execution stopped by user.',\n",
    "                                      rc=STOPPED_BY_USER)\n",
    "        except:\n",
    "            error, details = get_error_details()\n",
    "            return self._report_error('Unexpected error: %s' % error,\n",
    "                                      details, rc=FRAMEWORK_ERROR)\n",
    "        else:\n",
    "            return rc or 0"
   ]
  },
  {
   "cell_type": "markdown",
   "metadata": {
    "slideshow": {
     "slide_type": "slide"
    }
   },
   "source": [
    "### RobotFramework的主要模块"
   ]
  },
  {
   "cell_type": "code",
   "execution_count": null,
   "metadata": {
    "collapsed": false,
    "slideshow": {
     "slide_type": "subslide"
    }
   },
   "outputs": [],
   "source": [
    "import robot\n",
    "filter(lambda x: not x.startswith('_') and x not in ('sys', 'version', 'get_version', 'pythonpathsetter', 'run_cli', 'rebot', 'rebot_cli'), dir(robot))"
   ]
  },
  {
   "cell_type": "markdown",
   "metadata": {
    "slideshow": {
     "slide_type": "subslide"
    }
   },
   "source": [
    "* robot.run\n",
    "* robot.model\n",
    "* robot.parsing\n",
    "* robot.running\n",
    "* robot.output\n",
    "* robot.result\n",
    "* robot.reporting\n"
   ]
  },
  {
   "cell_type": "markdown",
   "metadata": {
    "slideshow": {
     "slide_type": "subslide"
    }
   },
   "source": [
    "#### robot.run"
   ]
  },
  {
   "cell_type": "code",
   "execution_count": null,
   "metadata": {
    "collapsed": false,
    "slideshow": {
     "slide_type": "subslide"
    }
   },
   "outputs": [],
   "source": [
    "from robot.run import RobotFramework # main class\n",
    "from robot.run import run # 执行入口\n",
    "from robot.run import run_cli # 命令行执行入口"
   ]
  },
  {
   "cell_type": "code",
   "execution_count": null,
   "metadata": {
    "collapsed": true,
    "slideshow": {
     "slide_type": "subslide"
    }
   },
   "outputs": [],
   "source": [
    "class RobotFramework(Application):\n",
    "\n",
    "    def __init__(self):\n",
    "        Application.__init__(self, USAGE, arg_limits=(1,),\n",
    "                             env_options='ROBOT_OPTIONS', logger=LOGGER)\n",
    "\n",
    "    def main(self, datasources, **options):\n",
    "        settings = RobotSettings(options)\n",
    "        LOGGER.register_console_logger(**settings.console_logger_config)\n",
    "        LOGGER.info('Settings:\\n%s' % unicode(settings))\n",
    "        suite = TestSuiteBuilder(settings['SuiteNames'],\n",
    "                                 settings['WarnOnSkipped'],\n",
    "                                 settings['RunEmptySuite']).build(*datasources)\n",
    "        suite.configure(**settings.suite_config)\n",
    "        with pyloggingconf.robot_handler_enabled(settings.log_level):\n",
    "            result = suite.run(settings)\n",
    "            LOGGER.info(\"Tests execution ended. Statistics:\\n%s\"\n",
    "                        % result.suite.stat_message)\n",
    "            if settings.log or settings.report or settings.xunit:\n",
    "                writer = ResultWriter(settings.output if settings.log\n",
    "                                      else result)\n",
    "                writer.write_results(settings.get_rebot_settings())\n",
    "        return result.return_code"
   ]
  },
  {
   "cell_type": "code",
   "execution_count": null,
   "metadata": {
    "collapsed": true,
    "slideshow": {
     "slide_type": "subslide"
    }
   },
   "outputs": [],
   "source": [
    "def run_cli(arguments):\n",
    "    RobotFramework().execute_cli(arguments)\n",
    "\n",
    "\n",
    "def run(*datasources, **options):\n",
    "    return RobotFramework().execute(*datasources, **options)"
   ]
  },
  {
   "cell_type": "markdown",
   "metadata": {
    "slideshow": {
     "slide_type": "subslide"
    }
   },
   "source": [
    "#### robot.model"
   ]
  },
  {
   "cell_type": "markdown",
   "metadata": {
    "slideshow": {
     "slide_type": "subslide"
    }
   },
   "source": [
    "类似通常**MVC**框架中的model, 是RobotFramework中的数据抽象层.\n",
    "\n",
    "* 基本类型\n",
    "* RobotFramework  suite/case/keyword等的抽象\n",
    "* 构建上述抽象类的工厂\n",
    "* **visitor**"
   ]
  },
  {
   "cell_type": "code",
   "execution_count": null,
   "metadata": {
    "collapsed": false,
    "slideshow": {
     "slide_type": "subslide"
    }
   },
   "outputs": [],
   "source": [
    "# 基本类型\n",
    "from robot.model.modelobject import ModelObject\n",
    "from robot.model.itemlist import ItemList"
   ]
  },
  {
   "cell_type": "code",
   "execution_count": null,
   "metadata": {
    "collapsed": false,
    "slideshow": {
     "slide_type": "subslide"
    }
   },
   "outputs": [],
   "source": [
    "# RobotFramework suite/case/keyword等的抽象\n",
    "from robot.model.testsuite import TestSuite, TestSuites\n",
    "from robot.model.testcase import TestCase, TestCases\n",
    "from robot.model.imports import Import, Imports\n",
    "from robot.model.keyword import Keyword, Keywords\n",
    "from robot.model.message import Message, Messages\n",
    "from robot.model.metadata import Metadata\n",
    "from robot.model.tags import Tags\n",
    "from robot.model.suitestatistics import SuiteStatistics\n",
    "from robot.model.tagstatistics import TagStatistics\n",
    "from robot.model.totalstatistics import TotalStatistics\n",
    "from robot.model.stats import SuiteStat, TagStat, TotalStat"
   ]
  },
  {
   "cell_type": "code",
   "execution_count": null,
   "metadata": {
    "collapsed": false,
    "slideshow": {
     "slide_type": "subslide"
    }
   },
   "outputs": [],
   "source": [
    "# 构建抽象类的工厂\n",
    "from robot.model.configurer import SuiteConfigurer\n",
    "from robot.model.statistics import  StatisticsBuilder\n",
    "from robot.model.suitestatistics import  SuiteStatisticsBuilder\n",
    "from robot.model.tagstatistics import  TagStatisticsBuilder\n",
    "from robot.model.totalstatistics import TotalStatisticsBuilder"
   ]
  },
  {
   "cell_type": "code",
   "execution_count": null,
   "metadata": {
    "collapsed": false,
    "slideshow": {
     "slide_type": "subslide"
    }
   },
   "outputs": [],
   "source": [
    "# visitor\n",
    "from robot.model.visitor import SuiteVisitor, SkipAllVisitor\n",
    "from robot.model.tagsetter import  TagSetter\n",
    "from robot.model.filter import  Filter, EmptySuiteRemover"
   ]
  },
  {
   "cell_type": "markdown",
   "metadata": {
    "slideshow": {
     "slide_type": "subslide"
    }
   },
   "source": [
    "#### SuiteVisitor\n",
    "\n",
    "* 运行，logging以及其他很多功能都基于它来实现\n",
    "* 实例：[rfexplain.py](http://gitlab.china.nsn-net.net/ta/rfexplain/blob/master/rfexplain.py)"
   ]
  },
  {
   "cell_type": "markdown",
   "metadata": {
    "slideshow": {
     "slide_type": "subslide"
    }
   },
   "source": [
    "#### robot.parsing"
   ]
  },
  {
   "cell_type": "markdown",
   "metadata": {
    "slideshow": {
     "slide_type": "fragment"
    }
   },
   "source": [
    ">RobotFramework的解析模块,负责将suite文件或目录解析成RobotFramework自己的数据结构. "
   ]
  },
  {
   "cell_type": "code",
   "execution_count": null,
   "metadata": {
    "collapsed": false,
    "slideshow": {
     "slide_type": "subslide"
    }
   },
   "outputs": [],
   "source": [
    "# case文件或目录的解析模块\n",
    "from robot.parsing.htmlreader import  HtmlReader\n",
    "from robot.parsing.restreader import RestReader\n",
    "from robot.parsing.txtreader import TxtReader\n",
    "from robot.parsing.tsvreader import TsvReader"
   ]
  },
  {
   "cell_type": "markdown",
   "metadata": {
    "slideshow": {
     "slide_type": "subslide"
    }
   },
   "source": [
    "#### 最主要的接口 - TestData"
   ]
  },
  {
   "cell_type": "code",
   "execution_count": null,
   "metadata": {
    "collapsed": false,
    "scrolled": true,
    "slideshow": {
     "slide_type": "subslide"
    }
   },
   "outputs": [],
   "source": [
    "# case文件或目录到model的转换 - robot.parsing.model.TestData\n",
    "from robot.parsing.model import  TestData\n",
    "from robot.api import TestData # 也可以直接用api调用, 这样更好\n",
    "data = TestData(source='examples/kw-driven.robot')\n",
    "print data.name"
   ]
  },
  {
   "cell_type": "markdown",
   "metadata": {
    "slideshow": {
     "slide_type": "subslide"
    }
   },
   "source": [
    "#### robot.running"
   ]
  },
  {
   "cell_type": "markdown",
   "metadata": {
    "slideshow": {
     "slide_type": "fragment"
    }
   },
   "source": [
    ">RobotFramework运行时的主要模块, RobotFramework的整个运行阶段基本都与它相关"
   ]
  },
  {
   "cell_type": "markdown",
   "metadata": {
    "slideshow": {
     "slide_type": "subslide"
    }
   },
   "source": [
    "#### TestSuiteBuilder\n",
    "\n",
    ">创建运行时的TestSuite"
   ]
  },
  {
   "cell_type": "code",
   "execution_count": null,
   "metadata": {
    "collapsed": false,
    "slideshow": {
     "slide_type": "subslide"
    }
   },
   "outputs": [],
   "source": [
    "from robot.running.builder import TestSuiteBuilder\n",
    "from robot.api import TestSuiteBuilder # 也可以直接通过api调用,这样更好\n",
    "suite = TestSuiteBuilder().build('examples/kw-driven.robot')\n",
    "print suite"
   ]
  },
  {
   "cell_type": "markdown",
   "metadata": {
    "slideshow": {
     "slide_type": "subslide"
    }
   },
   "source": [
    "#### EXECUTION_CONTEXTS - 运行时的所有信息\n",
    "\n",
    ">一个EXECUTION_CONTEXTS类似于一个stack，每个item为一个\\_EXECUTION_CONTEXT。\n",
    "\n",
    ">在\\_EXECUTION_CONTEXT中最为主要的属性为Namespace。"
   ]
  },
  {
   "cell_type": "code",
   "execution_count": null,
   "metadata": {
    "collapsed": false,
    "slideshow": {
     "slide_type": "subslide"
    }
   },
   "outputs": [],
   "source": [
    "# coding: utf-8\n",
    "# example - 在当前每个test运行前插入一个分割符的log\n",
    "from robot.running.context import EXECUTION_CONTEXTS\n",
    "from robot.running import Keyword\n",
    "\n",
    "class TestSplitter:\n",
    "    ROBOT_LISTENER_API_VERSION = 2\n",
    "\n",
    "    def __init__(self):\n",
    "        self._splitter = '-' * 80\n",
    "\n",
    "    def start_test(self, name, attributes):\n",
    "        ns = EXECUTION_CONTEXTS.current\n",
    "        Keyword('log', (self._splitter, )).run(ns)\n"
   ]
  },
  {
   "cell_type": "markdown",
   "metadata": {
    "slideshow": {
     "slide_type": "subslide"
    }
   },
   "source": [
    "使用命令`pybot --listener listener.TestSplitter kw-driven.robot`执行，可以得到如下的log：\n",
    "\n",
    "[log.html](examples/log.html)"
   ]
  },
  {
   "cell_type": "markdown",
   "metadata": {
    "slideshow": {
     "slide_type": "subslide"
    }
   },
   "source": [
    "#### 传递给某个具体的suite的运行数据"
   ]
  },
  {
   "cell_type": "code",
   "execution_count": null,
   "metadata": {
    "collapsed": false,
    "slideshow": {
     "slide_type": "subslide"
    }
   },
   "outputs": [],
   "source": [
    "from robot.running.namespace import Namespace\n",
    "import os\n",
    "\n",
    "# Namespace的主要属性和实现\n",
    "class Namespace:\n",
    "    _default_libraries = ('BuiltIn', 'Reserved', 'Easter')\n",
    "    _deprecated_libraries = {'BuiltIn': 'DeprecatedBuiltIn',\n",
    "                             'OperatingSystem': 'DeprecatedOperatingSystem'}\n",
    "    _library_import_by_path_endings = ('.py', '.java', '.class', '/', os.sep)\n",
    "\n",
    "    def __init__(self, suite, variables, parent_variables, user_keywords,\n",
    "                 imports):\n",
    "        LOGGER.info(\"Initializing namespace for test suite '%s'\" % suite.longname)\n",
    "        self.suite = suite\n",
    "        self.test = None\n",
    "        self.uk_handlers = []\n",
    "        self.variables = _VariableScopes(variables, parent_variables)\n",
    "        self._imports = imports\n",
    "        self._kw_store = KeywordStore(user_keywords)\n",
    "        self._imported_variable_files = ImportCache()\n",
    "\n",
    "    @property\n",
    "    def libraries(self):\n",
    "        return self._kw_store.libraries.values()\n"
   ]
  },
  {
   "cell_type": "markdown",
   "metadata": {
    "slideshow": {
     "slide_type": "subslide"
    }
   },
   "source": [
    "#### model - 运行时的模型抽象"
   ]
  },
  {
   "cell_type": "code",
   "execution_count": null,
   "metadata": {
    "collapsed": false,
    "slideshow": {
     "slide_type": "subslide"
    }
   },
   "outputs": [],
   "source": [
    "from robot.running.model import TestCase, TestSuite\n",
    "from robot.running.keywords import Keyword, Keywords\n",
    "from robot.running.status import SuiteStatus, TestStatus\n",
    "from robot.running.userkeyword import UserLibrary # 还有其它模型抽象\n",
    "from robot.running.testlibraries import TestLibrary"
   ]
  },
  {
   "cell_type": "markdown",
   "metadata": {
    "slideshow": {
     "slide_type": "subslide"
    }
   },
   "source": [
    "#### Runner - 实际执行suite的class\n",
    "\n",
    ">继承自SuiteVisitor"
   ]
  },
  {
   "cell_type": "code",
   "execution_count": null,
   "metadata": {
    "collapsed": false,
    "slideshow": {
     "slide_type": "notes"
    }
   },
   "outputs": [],
   "source": [
    "from robot.running.runner import Runner\n",
    "from robot.model import SuiteVisitor\n",
    "\n",
    "# Runner的代码如下：\n",
    "\n",
    "class Runner(SuiteVisitor):\n",
    "\n",
    "    def __init__(self, output, settings):\n",
    "        self.result = None\n",
    "        self._output = output\n",
    "        self._settings = settings\n",
    "        self._suite = None\n",
    "        self._suite_status = None\n",
    "        self._executed_tests = None\n",
    "\n",
    "    @property\n",
    "    def _context(self):\n",
    "        return EXECUTION_CONTEXTS.current\n",
    "\n",
    "    @property\n",
    "    def _variables(self):\n",
    "        ctx = self._context\n",
    "        return ctx.variables if ctx else None\n",
    "\n",
    "    def start_suite(self, suite):\n",
    "        variables = GLOBAL_VARIABLES.copy()\n",
    "        variables.set_from_variable_table(suite.variables)\n",
    "        result = TestSuite(source=suite.source,\n",
    "                           name=suite.name,\n",
    "                           doc=suite.doc,\n",
    "                           metadata=suite.metadata,\n",
    "                           starttime=get_timestamp())\n",
    "        if not self.result:\n",
    "            result.set_criticality(self._settings.critical_tags,\n",
    "                                   self._settings.non_critical_tags)\n",
    "            self.result = Result(root_suite=result)\n",
    "            self.result.configure(status_rc=self._settings.status_rc,\n",
    "                                  stat_config=self._settings.statistics_config)\n",
    "        else:\n",
    "            self._suite.suites.append(result)\n",
    "        ns = Namespace(result, variables, self._variables,\n",
    "                       suite.user_keywords, suite.imports)\n",
    "        EXECUTION_CONTEXTS.start_suite(ns, self._output, self._settings.dry_run)\n",
    "        self._context.set_suite_variables(result)\n",
    "        if not (self._suite_status and self._suite_status.failures):\n",
    "            ns.handle_imports()\n",
    "        variables.resolve_delayed()\n",
    "        result.doc = self._resolve_setting(result.doc)\n",
    "        result.metadata = [(self._resolve_setting(n), self._resolve_setting(v))\n",
    "                           for n, v in result.metadata.items()]\n",
    "        self._context.set_suite_variables(result)\n",
    "        self._suite = result\n",
    "        self._suite_status = SuiteStatus(self._suite_status,\n",
    "                                         self._settings.exit_on_failure,\n",
    "                                         self._settings.exit_on_error,\n",
    "                                         self._settings.skip_teardown_on_exit)\n",
    "        self._output.start_suite(ModelCombiner(result, suite,\n",
    "                                               tests=suite.tests,\n",
    "                                               suites=suite.suites,\n",
    "                                               test_count=suite.test_count))\n",
    "        self._output.register_error_listener(self._suite_status.error_occurred)\n",
    "        self._run_setup(suite.keywords.setup, self._suite_status)\n",
    "        self._executed_tests = NormalizedDict(ignore='_')\n",
    "\n",
    "    def _resolve_setting(self, value):\n",
    "        return self._variables.replace_string(value, ignore_errors=True)\n",
    "\n",
    "    def end_suite(self, suite):\n",
    "        self._suite.message = self._suite_status.message\n",
    "        self._context.report_suite_status(self._suite.status,\n",
    "                                          self._suite.full_message)\n",
    "        with self._context.suite_teardown():\n",
    "            failure = self._run_teardown(suite.keywords.teardown, self._suite_status)\n",
    "            if failure:\n",
    "                self._suite.suite_teardown_failed(unicode(failure))\n",
    "        self._suite.endtime = get_timestamp()\n",
    "        self._suite.message = self._suite_status.message\n",
    "        self._context.end_suite(self._suite)\n",
    "        self._suite = self._suite.parent\n",
    "        self._suite_status = self._suite_status.parent\n",
    "\n",
    "    def visit_test(self, test):\n",
    "        if test.name in self._executed_tests:\n",
    "            self._output.warn(\"Multiple test cases with name '%s' executed in \"\n",
    "                              \"test suite '%s'.\" % (test.name, self._suite.longname))\n",
    "        self._executed_tests[test.name] = True\n",
    "        result = self._suite.tests.create(name=test.name,\n",
    "                                          doc=self._resolve_setting(test.doc),\n",
    "                                          tags=test.tags,\n",
    "                                          starttime=get_timestamp(),\n",
    "                                          timeout=self._get_timeout(test))\n",
    "        keywords = Keywords(test.keywords.normal, bool(test.template))\n",
    "        status = TestStatus(self._suite_status)\n",
    "        if not status.failures and not test.name:\n",
    "            status.test_failed('Test case name cannot be empty.', result.critical)\n",
    "        if not status.failures and not keywords:\n",
    "            status.test_failed('Test case contains no keywords.', result.critical)\n",
    "        try:\n",
    "            result.tags = self._context.variables.replace_list(result.tags)\n",
    "        except DataError, err:\n",
    "            status.test_failed('Replacing variables from test tags failed: %s'\n",
    "                               % unicode(err), result.critical)\n",
    "        self._context.start_test(result)\n",
    "        self._output.start_test(ModelCombiner(result, test))\n",
    "        self._run_setup(test.keywords.setup, status, result)\n",
    "        try:\n",
    "            if not status.failures:\n",
    "                keywords.run(self._context)\n",
    "        except PassExecution, exception:\n",
    "            err = exception.earlier_failures\n",
    "            if err:\n",
    "                status.test_failed(err, result.critical)\n",
    "            else:\n",
    "                result.message = exception.message\n",
    "        except ExecutionFailed, err:\n",
    "            status.test_failed(err, result.critical)\n",
    "        result.status = status.status\n",
    "        result.message = status.message or result.message\n",
    "        if status.teardown_allowed:\n",
    "            with self._context.test_teardown(result):\n",
    "                self._run_teardown(test.keywords.teardown, status, result)\n",
    "        if not status.failures and result.timeout and result.timeout.timed_out():\n",
    "            status.test_failed(result.timeout.get_message(), result.critical)\n",
    "            result.message = status.message\n",
    "        result.status = status.status\n",
    "        result.endtime = get_timestamp()\n",
    "        self._output.end_test(ModelCombiner(result, test))\n",
    "        self._context.end_test(result)\n",
    "\n",
    "    def _get_timeout(self, test):\n",
    "        if not test.timeout:\n",
    "            return None\n",
    "        timeout = TestTimeout(test.timeout.value, test.timeout.message,\n",
    "                              self._variables)\n",
    "        timeout.start()\n",
    "        return timeout\n",
    "\n",
    "    def _run_setup(self, setup, status, result=None):\n",
    "        if not status.failures:\n",
    "            exception = self._run_setup_or_teardown(setup, 'setup')\n",
    "            status.setup_executed(exception)\n",
    "            if result and isinstance(exception, PassExecution):\n",
    "                result.message = exception.message\n",
    "\n",
    "    def _run_teardown(self, teardown, status, result=None):\n",
    "        if status.teardown_allowed:\n",
    "            exception = self._run_setup_or_teardown(teardown, 'teardown')\n",
    "            status.teardown_executed(exception)\n",
    "            failed = not isinstance(exception, PassExecution)\n",
    "            if result and exception:\n",
    "                result.message = status.message if failed else exception.message\n",
    "            return exception if failed else None\n",
    "\n",
    "    def _run_setup_or_teardown(self, data, kw_type):\n",
    "        if not data:\n",
    "            return None\n",
    "        try:\n",
    "            name = self._variables.replace_string(data.name)\n",
    "        except DataError, err:\n",
    "            return err\n",
    "        if name.upper() in ('', 'NONE'):\n",
    "            return None\n",
    "        kw = Keyword(name, data.args, type=kw_type)\n",
    "        try:\n",
    "            kw.run(self._context)\n",
    "        except ExecutionFailed, err:\n",
    "            return err"
   ]
  },
  {
   "cell_type": "markdown",
   "metadata": {
    "slideshow": {
     "slide_type": "subslide"
    }
   },
   "source": [
    "#### signal监控 - 处理stop gracefully等"
   ]
  },
  {
   "cell_type": "code",
   "execution_count": null,
   "metadata": {
    "collapsed": false,
    "slideshow": {
     "slide_type": "subslide"
    }
   },
   "outputs": [],
   "source": [
    "from robot.running.signalhandler import STOP_SIGNAL_MONITOR\n",
    "with STOP_SIGNAL_MONITOR:\n",
    "    import time\n",
    "    print 'a'\n",
    "    time.sleep(2)\n",
    "    print 'b'\n",
    "    time.sleep(2)\n",
    "    print 'c'\n",
    "    time.sleep(2)"
   ]
  },
  {
   "cell_type": "markdown",
   "metadata": {
    "slideshow": {
     "slide_type": "subslide"
    }
   },
   "source": [
    "#### Question:\n",
    "\n",
    "1. 为什么上面的例子还是把a,b,c都输出来了?\n",
    "1. 为什么执行Ctrl+C后之后的keyword都不执行了?"
   ]
  },
  {
   "cell_type": "markdown",
   "metadata": {
    "slideshow": {
     "slide_type": "subslide"
    }
   },
   "source": [
    "#### timeout处理\n",
    "\n",
    "原理：根据平台和python版本不同，timeout有几种不同的实现方式。\n",
    "```python\n",
    "if sys.platform == 'cli':\n",
    "    from .timeoutthread import Timeout\n",
    "elif os.name == 'nt':\n",
    "    from .timeoutwin import Timeout\n",
    "else:\n",
    "    try:\n",
    "        # python 2.6 or newer in *nix or mac\n",
    "        from .timeoutsignaling import Timeout\n",
    "    except ImportError:\n",
    "        # python < 2.6 and jython don't have complete signal module\n",
    "        from .timeoutthread import Timeout\n",
    "```\n",
    "以Linux平台Python 2.7为例来展示一下它的工作方式。"
   ]
  },
  {
   "cell_type": "code",
   "execution_count": null,
   "metadata": {
    "collapsed": false,
    "scrolled": true,
    "slideshow": {
     "slide_type": "subslide"
    }
   },
   "outputs": [],
   "source": [
    "from robot.running.timeouts import Timeout\n",
    "t = Timeout(1, 'timeout')\n",
    "\n",
    "def test():\n",
    "    import time\n",
    "    print 'start'\n",
    "    time.sleep(10)\n",
    "    print 'end'\n",
    "\n",
    "t.execute(test)"
   ]
  },
  {
   "cell_type": "code",
   "execution_count": null,
   "metadata": {
    "collapsed": false,
    "scrolled": true,
    "slideshow": {
     "slide_type": "subslide"
    }
   },
   "outputs": [],
   "source": [
    "# 它的内部工作原理还是基于signal\n",
    "from signal import setitimer, signal, SIGALRM, ITIMER_REAL\n",
    "\n",
    "def _raise_error(signum, frame):\n",
    "    raise RuntimeError('timeout')\n",
    "    \n",
    "def test():\n",
    "    import time\n",
    "    print 'start'\n",
    "    time.sleep(10)\n",
    "    print 'end'\n",
    "    \n",
    "signal(SIGALRM, _raise_error)\n",
    "setitimer(ITIMER_REAL, 1)\n",
    "test()"
   ]
  },
  {
   "cell_type": "markdown",
   "metadata": {
    "slideshow": {
     "slide_type": "subslide"
    }
   },
   "source": [
    "#### robot.result"
   ]
  },
  {
   "cell_type": "markdown",
   "metadata": {
    "slideshow": {
     "slide_type": "fragment"
    }
   },
   "source": [
    ">XML output的解析模块, 它的主要功能是将output.xml转换为Result对象"
   ]
  },
  {
   "cell_type": "code",
   "execution_count": null,
   "metadata": {
    "collapsed": false,
    "slideshow": {
     "slide_type": "subslide"
    }
   },
   "outputs": [],
   "source": [
    "# 从output.xml文件创建Result对象\n",
    "from robot.result import  ExecutionResult\n",
    "result = ExecutionResult('examples/output.xml')\n",
    "print result.suite.status"
   ]
  },
  {
   "cell_type": "code",
   "execution_count": null,
   "metadata": {
    "collapsed": false,
    "slideshow": {
     "slide_type": "subslide"
    }
   },
   "outputs": [],
   "source": [
    "#  Result vs. CombinedResult\n",
    "from robot.api import ExecutionResult\n",
    "from robot.result.resultbuilder import CombinedResult, Result, Merger\n",
    "sources = ['log-1.html', 'log-2.html']\n",
    "options = {}\n",
    "CombinedResult(ExecutionResult(src, **options) for src in sources)"
   ]
  },
  {
   "cell_type": "markdown",
   "metadata": {
    "slideshow": {
     "slide_type": "subslide"
    }
   },
   "source": [
    "#### result阶段的model"
   ]
  },
  {
   "cell_type": "code",
   "execution_count": null,
   "metadata": {
    "collapsed": false,
    "slideshow": {
     "slide_type": "subslide"
    }
   },
   "outputs": [],
   "source": [
    "from robot.result.testsuite import TestSuite\n",
    "from robot.result.testcase import  TestCase\n",
    "from robot.result.keyword import Keyword"
   ]
  },
  {
   "cell_type": "markdown",
   "metadata": {
    "slideshow": {
     "slide_type": "subslide"
    }
   },
   "source": [
    "#### robot.reporting"
   ]
  },
  {
   "cell_type": "markdown",
   "metadata": {
    "slideshow": {
     "slide_type": "subslide"
    }
   },
   "source": [
    ">**robot.reporting**主要用于生成log.html和report.html, 除此以外, 它的功能还有:\n",
    "\n",
    ">* 生成新的output.xml\n",
    ">* log.html中js部分的生成器 (用于动态加载优化性能和解决内存问题)"
   ]
  },
  {
   "cell_type": "code",
   "execution_count": null,
   "metadata": {
    "collapsed": false,
    "slideshow": {
     "slide_type": "subslide"
    }
   },
   "outputs": [],
   "source": [
    "# log.html & report.html\n",
    "from robot.reporting.resultwriter import ResultWriter, ReportWriter"
   ]
  },
  {
   "cell_type": "code",
   "execution_count": null,
   "metadata": {
    "collapsed": false,
    "slideshow": {
     "slide_type": "subslide"
    }
   },
   "outputs": [],
   "source": [
    "# output.xml\n",
    "from robot.reporting.outputwriter import OutputWriter"
   ]
  },
  {
   "cell_type": "code",
   "execution_count": null,
   "metadata": {
    "collapsed": false,
    "slideshow": {
     "slide_type": "subslide"
    }
   },
   "outputs": [],
   "source": [
    "# js writer\n",
    "from robot.reporting.jswriter import JsResultWriter, SplitLogWriter, JsonWriter"
   ]
  },
  {
   "cell_type": "markdown",
   "metadata": {
    "slideshow": {
     "slide_type": "slide"
    }
   },
   "source": [
    "### 不同阶段的model"
   ]
  },
  {
   "cell_type": "markdown",
   "metadata": {
    "slideshow": {
     "slide_type": "fragment"
    }
   },
   "source": [
    ">在不同的阶段都有对应的model, 另外robot还有一个robot.model模块.\n",
    "\n",
    ">大部分的model都继承自robot.model中的相关类.\n",
    "\n",
    ">但是robot.parsing.model除外. 怀疑是RobotFramework的遗留代码没有重构完导致的.\n",
    "\n",
    ">* robot.model\n",
    ">* robot.parsing.model\n",
    ">* robot.running.model\n",
    ">* robot.result.\"model\""
   ]
  },
  {
   "cell_type": "markdown",
   "metadata": {
    "slideshow": {
     "slide_type": "slide"
    }
   },
   "source": [
    "### 问题"
   ]
  },
  {
   "cell_type": "markdown",
   "metadata": {
    "slideshow": {
     "slide_type": "subslide"
    }
   },
   "source": [
    "#### Q: 你知道执行pybot后RobotFramework都做了些什么吗?"
   ]
  },
  {
   "cell_type": "markdown",
   "metadata": {
    "slideshow": {
     "slide_type": "subslide"
    }
   },
   "source": [
    "* 实例化robot.run.RobotFramework\n",
    "* 命令行参数解析\n",
    "* 实例化RobotSettings\n",
    "* 设置LOGGER\n",
    "* 生成TestSuite\n",
    "* 执行TestSuite\n",
    "* 写入log和report\n",
    "* 判断测试结果\n",
    "* 结束进程"
   ]
  },
  {
   "cell_type": "code",
   "execution_count": null,
   "metadata": {
    "collapsed": false,
    "slideshow": {
     "slide_type": "subslide"
    }
   },
   "outputs": [],
   "source": [
    "from robot.run import run_cli\n",
    "run_cli(['examples/kw-driven.robot'])"
   ]
  },
  {
   "cell_type": "markdown",
   "metadata": {
    "slideshow": {
     "slide_type": "subslide"
    }
   },
   "source": [
    "#### Q: 你知道RobotFramework的Stop Gracefully是怎么实现的吗?"
   ]
  },
  {
   "cell_type": "code",
   "execution_count": null,
   "metadata": {
    "collapsed": false,
    "slideshow": {
     "slide_type": "subslide"
    }
   },
   "outputs": [],
   "source": [
    "# robot.running.model.TestSuite的run方法\n",
    "# robot.running.signalhandler\n",
    "# 通过signal.signal来实现Ctrl+C的监听\n",
    "from robot.running.signalhandler import STOP_SIGNAL_MONITOR\n",
    "from robot.output import pyloggingconf\n",
    "\n",
    "# robot.running.model\n",
    "def run(self, settings=None, **options):\n",
    "    if not settings:\n",
    "        settings = RobotSettings(options)\n",
    "        LOGGER.register_console_logger(**settings.console_logger_config)\n",
    "    with pyloggingconf.robot_handler_enabled(settings.log_level):\n",
    "        with STOP_SIGNAL_MONITOR:\n",
    "            IMPORTER.reset()\n",
    "            init_global_variables(settings)\n",
    "            output = Output(settings)\n",
    "            runner = Runner(output, settings)\n",
    "            self.visit(runner)\n",
    "        output.close(runner.result)\n",
    "    return runner.result\n",
    "\n",
    "\n",
    "# robot.running.handlers\n",
    "def _run_with_signal_monitoring(self, runner, context):\n",
    "    try:\n",
    "        STOP_SIGNAL_MONITOR.start_running_keyword(context.in_teardown)\n",
    "        return runner()\n",
    "    finally:\n",
    "        STOP_SIGNAL_MONITOR.stop_running_keyword()\n"
   ]
  },
  {
   "cell_type": "markdown",
   "metadata": {
    "slideshow": {
     "slide_type": "subslide"
    }
   },
   "source": [
    "### 练习"
   ]
  },
  {
   "cell_type": "markdown",
   "metadata": {
    "slideshow": {
     "slide_type": "fragment"
    }
   },
   "source": [
    "1. 阅读相关代码，找出listener的实现原理是什么\n",
    "1. 阅读相关代码，理清RobotFramework是怎么写入log的\n",
    "1. 阅读相关代码，理清dry-run是怎么实现的,有哪些局限性\n",
    "1. 理解RobotFramework的Timeout在Windows平台的实现原理\n",
    "1. 列出你认为的RobotFramework的设计缺陷或局限性"
   ]
  }
 ],
 "metadata": {
  "celltoolbar": "Slideshow",
  "kernelspec": {
   "display_name": "Python 2",
   "language": "python",
   "name": "python2"
  },
  "language_info": {
   "codemirror_mode": {
    "name": "ipython",
    "version": 2
   },
   "file_extension": ".py",
   "mimetype": "text/x-python",
   "name": "python",
   "nbconvert_exporter": "python",
   "pygments_lexer": "ipython2",
   "version": "2.7.6"
  }
 },
 "nbformat": 4,
 "nbformat_minor": 0
}
