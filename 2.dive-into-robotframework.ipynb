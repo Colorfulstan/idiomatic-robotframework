{
 "cells": [
  {
   "cell_type": "markdown",
   "metadata": {
    "slideshow": {
     "slide_type": "slide"
    }
   },
   "source": [
    "# PART 2: Dive Into RobotFramework"
   ]
  },
  {
   "cell_type": "markdown",
   "metadata": {},
   "source": [
    "----"
   ]
  },
  {
   "cell_type": "markdown",
   "metadata": {},
   "source": [
    "## RobotFramework的开发模式探寻"
   ]
  },
  {
   "cell_type": "markdown",
   "metadata": {},
   "source": [
    "我们首先来探寻一下RobotFramework的开发模式. 通过观察它在github上的项目以及提交和发布情况,我们可以发现:\n",
    "* 开发基于[github](https://github.com/robotframework/robotframework)\n",
    "* 工作在master分支上\n",
    "* 不直接提交到master分支\n",
    "* 使用**pull request**来进行code review\n",
    "* 使用milestone来进行项目进度管理,如https://github.com/robotframework/robotframework/milestones\n",
    "* 使用branch来进行feature开发\n",
    "* 使用tag来进行release"
   ]
  },
  {
   "cell_type": "markdown",
   "metadata": {},
   "source": [
    "----"
   ]
  },
  {
   "cell_type": "markdown",
   "metadata": {},
   "source": [
    "## RobotFramework的测试"
   ]
  },
  {
   "cell_type": "markdown",
   "metadata": {},
   "source": [
    "### Unit Testing"
   ]
  },
  {
   "cell_type": "markdown",
   "metadata": {},
   "source": [
    "```sh\n",
    "python utest/run_utests.py\n",
    "```"
   ]
  },
  {
   "cell_type": "markdown",
   "metadata": {},
   "source": [
    "### Acceptance Testing"
   ]
  },
  {
   "cell_type": "markdown",
   "metadata": {},
   "source": [
    "```sh\n",
    "python atest/run_atests.py python robot\n",
    "```"
   ]
  },
  {
   "cell_type": "markdown",
   "metadata": {},
   "source": [
    "----"
   ]
  },
  {
   "cell_type": "markdown",
   "metadata": {},
   "source": [
    "## RobotFramework的整体工作流"
   ]
  },
  {
   "cell_type": "markdown",
   "metadata": {},
   "source": [
    "![RobotFramework Workflow](img/robot_workflow.svg \"RobotFramework Workflow\")\n"
   ]
  },
  {
   "cell_type": "markdown",
   "metadata": {},
   "source": [
    "----"
   ]
  },
  {
   "cell_type": "markdown",
   "metadata": {},
   "source": [
    "## RobotFramework的主要模块"
   ]
  },
  {
   "cell_type": "code",
   "execution_count": 1,
   "metadata": {
    "collapsed": false
   },
   "outputs": [
    {
     "data": {
      "text/plain": [
       "['conf',\n",
       " 'errors',\n",
       " 'htmldata',\n",
       " 'model',\n",
       " 'output',\n",
       " 'parsing',\n",
       " 'reporting',\n",
       " 'result',\n",
       " 'run',\n",
       " 'running',\n",
       " 'utils',\n",
       " 'variables',\n",
       " 'writer']"
      ]
     },
     "execution_count": 1,
     "metadata": {},
     "output_type": "execute_result"
    }
   ],
   "source": [
    "import robot\n",
    "filter(lambda x: not x.startswith('_') and x not in ('sys', 'version', 'get_version', 'pythonpathsetter', 'run_cli', 'rebot', 'rebot_cli'), dir(robot))"
   ]
  },
  {
   "cell_type": "markdown",
   "metadata": {},
   "source": [
    "我们考虑其中主要的模块:\n",
    "* robot.run\n",
    "* robot.model\n",
    "* robot.parsing\n",
    "* robot.running\n",
    "* robot.output\n",
    "* robot.result\n",
    "* robot.reporting\n"
   ]
  },
  {
   "cell_type": "markdown",
   "metadata": {},
   "source": [
    "----"
   ]
  },
  {
   "cell_type": "markdown",
   "metadata": {},
   "source": [
    "### robot.run"
   ]
  },
  {
   "cell_type": "code",
   "execution_count": 15,
   "metadata": {
    "collapsed": false
   },
   "outputs": [],
   "source": [
    "from robot.run import RobotFramework # main class\n",
    "from robot.run import run # 执行入口\n",
    "from robot.run import run_cli # 命令行执行入口"
   ]
  },
  {
   "cell_type": "markdown",
   "metadata": {},
   "source": [
    "RobotFramework的主要代码\n",
    "```python\n",
    "class RobotFramework(Application):\n",
    "\n",
    "    def __init__(self):\n",
    "        Application.__init__(self, USAGE, arg_limits=(1,),\n",
    "                             env_options='ROBOT_OPTIONS', logger=LOGGER)\n",
    "\n",
    "    def main(self, datasources, **options):\n",
    "        settings = RobotSettings(options)\n",
    "        LOGGER.register_console_logger(**settings.console_logger_config)\n",
    "        LOGGER.info('Settings:\\n%s' % unicode(settings))\n",
    "        suite = TestSuiteBuilder(settings['SuiteNames'],\n",
    "                                 settings['WarnOnSkipped'],\n",
    "                                 settings['RunEmptySuite']).build(*datasources)\n",
    "        suite.configure(**settings.suite_config)\n",
    "        with pyloggingconf.robot_handler_enabled(settings.log_level):\n",
    "            result = suite.run(settings)\n",
    "            LOGGER.info(\"Tests execution ended. Statistics:\\n%s\"\n",
    "                        % result.suite.stat_message)\n",
    "            if settings.log or settings.report or settings.xunit:\n",
    "                writer = ResultWriter(settings.output if settings.log\n",
    "                                      else result)\n",
    "                writer.write_results(settings.get_rebot_settings())\n",
    "        return result.return_code\n",
    "```"
   ]
  },
  {
   "cell_type": "markdown",
   "metadata": {},
   "source": [
    "run和run_cli的代码\n",
    "```python\n",
    "def run_cli(arguments):\n",
    "    RobotFramework().execute_cli(arguments)\n",
    "\n",
    "\n",
    "def run(*datasources, **options):\n",
    "    return RobotFramework().execute(*datasources, **options)\n",
    "```"
   ]
  },
  {
   "cell_type": "markdown",
   "metadata": {},
   "source": [
    "----"
   ]
  },
  {
   "cell_type": "markdown",
   "metadata": {},
   "source": [
    "### robot.model"
   ]
  },
  {
   "cell_type": "markdown",
   "metadata": {},
   "source": [
    "类似通常**MVC**框架中的model, 是RobotFramework中的数据抽象层.\n",
    "robot.model中的代码大致包含以下几类:\n",
    "\n",
    "* 基本类型\n",
    "* RobotFramework  suite/case/keyword等的抽象\n",
    "* 构建上述抽象类的工厂\n",
    "* 对抽象类的装饰(如filter)\n",
    "* visitor"
   ]
  },
  {
   "cell_type": "code",
   "execution_count": 23,
   "metadata": {
    "collapsed": false
   },
   "outputs": [],
   "source": [
    "# 基本类型\n",
    "from robot.model.modelobject import ModelObject\n",
    "from robot.model.itemlist import ItemList"
   ]
  },
  {
   "cell_type": "code",
   "execution_count": 28,
   "metadata": {
    "collapsed": false
   },
   "outputs": [],
   "source": [
    "# RobotFramework suite/case/keyword等的抽象\n",
    "from robot.model.testsuite import TestSuite, TestSuites\n",
    "from robot.model.testcase import TestCase, TestCases\n",
    "from robot.model.imports import Import, Imports\n",
    "from robot.model.keyword import Keyword, Keywords\n",
    "from robot.model.message import Message, Messages\n",
    "from robot.model.metadata import Metadata\n",
    "from robot.model.tags import Tags\n",
    "from robot.model.suitestatistics import SuiteStatistics\n",
    "from robot.model.tagstatistics import TagStatistics\n",
    "from robot.model.totalstatistics import TotalStatistics\n",
    "from robot.model.stats import SuiteStat, TagStat, TotalStat"
   ]
  },
  {
   "cell_type": "code",
   "execution_count": 29,
   "metadata": {
    "collapsed": false
   },
   "outputs": [],
   "source": [
    "# 构建抽象类的工厂\n",
    "from robot.model.configurer import SuiteConfigurer\n",
    "from robot.model.statistics import  StatisticsBuilder\n",
    "from robot.model.suitestatistics import  SuiteStatisticsBuilder\n",
    "from robot.model.tagstatistics import  TagStatisticsBuilder\n",
    "from robot.model.totalstatistics import TotalStatisticsBuilder"
   ]
  },
  {
   "cell_type": "code",
   "execution_count": 30,
   "metadata": {
    "collapsed": false
   },
   "outputs": [],
   "source": [
    "# 对抽象类的装饰\n",
    "from robot.model.tags import TagPattern, TagPatterns # NOT, AND, OR\n",
    "from robot.model.criticality import Criticality"
   ]
  },
  {
   "cell_type": "code",
   "execution_count": null,
   "metadata": {
    "collapsed": false
   },
   "outputs": [],
   "source": [
    "# visitor\n",
    "from robot.model.visitor import SuiteVisitor, SkipAllVisitor\n",
    "from robot.model.tagsetter import  TagSetter\n",
    "from robot.model.filter import  Filter, EmptySuiteRemover"
   ]
  },
  {
   "cell_type": "markdown",
   "metadata": {},
   "source": [
    "----"
   ]
  },
  {
   "cell_type": "markdown",
   "metadata": {},
   "source": [
    "### robot.parsing"
   ]
  },
  {
   "cell_type": "markdown",
   "metadata": {},
   "source": [
    "顾名思义, robot.parsing是RobotFramework的解析模块,负责将suite文件或目录解析成RobotFramework自己的数据结构. "
   ]
  },
  {
   "cell_type": "code",
   "execution_count": 31,
   "metadata": {
    "collapsed": false
   },
   "outputs": [],
   "source": [
    "# case文件或目录的解析模块\n",
    "from robot.parsing.htmlreader import  HtmlReader\n",
    "from robot.parsing.restreader import RestReader\n",
    "from robot.parsing.txtreader import TxtReader\n",
    "from robot.parsing.tsvreader import TsvReader"
   ]
  },
  {
   "cell_type": "markdown",
   "metadata": {},
   "source": [
    "最主要的接口 - TestData"
   ]
  },
  {
   "cell_type": "code",
   "execution_count": 32,
   "metadata": {
    "collapsed": false
   },
   "outputs": [],
   "source": [
    "# case文件或目录到model的转换 - robot.parsing.model.TestData\n",
    "from robot.parsing.model import  TestData\n",
    "from robot.api import TestData # 也可以直接用api调用, 这样更好"
   ]
  },
  {
   "cell_type": "code",
   "execution_count": 33,
   "metadata": {
    "collapsed": false
   },
   "outputs": [],
   "source": [
    "# 行解析robot.parsing.datarow\n",
    "from robot.parsing.datarow import DataRow"
   ]
  },
  {
   "cell_type": "code",
   "execution_count": null,
   "metadata": {
    "collapsed": false
   },
   "outputs": [],
   "source": [
    "# settings_table的数据结构robot.parsing.settings\n",
    "from robot.parsing.settings import Documentation, Library, Metadata, Resource # ..."
   ]
  },
  {
   "cell_type": "markdown",
   "metadata": {},
   "source": [
    "----"
   ]
  },
  {
   "cell_type": "markdown",
   "metadata": {},
   "source": [
    "### robot.running"
   ]
  },
  {
   "cell_type": "markdown",
   "metadata": {},
   "source": [
    "robot.running是RobotFramework运行时的主要模块, RobotFramework的整个运行阶段基本都与它相关"
   ]
  },
  {
   "cell_type": "markdown",
   "metadata": {},
   "source": [
    "#### TestSuiteBuilder - 创建运行时的TestSuite"
   ]
  },
  {
   "cell_type": "code",
   "execution_count": 40,
   "metadata": {
    "collapsed": false
   },
   "outputs": [
    {
     "name": "stdout",
     "output_type": "stream",
     "text": [
      "Kw-Driven\n"
     ]
    }
   ],
   "source": [
    "from robot.running.builder import TestSuiteBuilder\n",
    "from robot.api import TestSuiteBuilder # 也可以直接通过api调用,这样更好\n",
    "suite = TestSuiteBuilder().build('examples/kw-driven.robot')\n",
    "print suite"
   ]
  },
  {
   "cell_type": "markdown",
   "metadata": {},
   "source": [
    "#### EXECUTION_CONTEXTS - 运行时的所有信息"
   ]
  },
  {
   "cell_type": "code",
   "execution_count": 2,
   "metadata": {
    "collapsed": false
   },
   "outputs": [],
   "source": [
    "# coding: utf-8\n",
    "# example - 在当前每个test运行前插入一个分割符的log\n",
    "from robot.running.context import EXECUTION_CONTEXTS\n",
    "from robot.running import Keyword\n",
    "\n",
    "class TestSplitter:\n",
    "    ROBOT_LISTENER_API_VERSION = 2\n",
    "\n",
    "    def __init__(self):\n",
    "        self._splitter = '-' * 80\n",
    "\n",
    "    def start_test(self, name, attributes):\n",
    "        ns = EXECUTION_CONTEXTS.current\n",
    "        Keyword('log', (self._splitter, )).run(ns)\n"
   ]
  },
  {
   "cell_type": "markdown",
   "metadata": {},
   "source": [
    "使用命令`pybot --listener listener.TestSplitter kw-driven.robot`执行，可以得到如下的log：\n",
    "\n",
    "[log.html](examples/log.html)"
   ]
  },
  {
   "cell_type": "markdown",
   "metadata": {},
   "source": [
    "#### model - 运行时的模型抽象"
   ]
  },
  {
   "cell_type": "code",
   "execution_count": 70,
   "metadata": {
    "collapsed": false
   },
   "outputs": [],
   "source": [
    "from robot.running.model import TestCase, TestSuite\n",
    "from robot.running.keywords import Keyword, Keywords\n",
    "from robot.running.status import SuiteStatus, TestStatus\n",
    "from robot.running.userkeyword import UserLibrary # 还有其它模型抽象\n",
    "from robot.running.testlibraries import TestLibrary"
   ]
  },
  {
   "cell_type": "markdown",
   "metadata": {},
   "source": [
    "#### 基本类型"
   ]
  },
  {
   "cell_type": "code",
   "execution_count": 71,
   "metadata": {
    "collapsed": false
   },
   "outputs": [],
   "source": [
    "from robot.running.baselibrary import BaseLibrary\n",
    "from robot.running.dynamicmethods import RunKeyword\n",
    "from robot.running.handlers import Handler"
   ]
  },
  {
   "cell_type": "markdown",
   "metadata": {},
   "source": [
    "#### 传递给某个具体的suite的运行数据"
   ]
  },
  {
   "cell_type": "code",
   "execution_count": 47,
   "metadata": {
    "collapsed": false
   },
   "outputs": [],
   "source": [
    "from robot.running.namespace import Namespace"
   ]
  },
  {
   "cell_type": "markdown",
   "metadata": {},
   "source": [
    "#### Runner - 实际执行suite的class"
   ]
  },
  {
   "cell_type": "code",
   "execution_count": null,
   "metadata": {
    "collapsed": false
   },
   "outputs": [],
   "source": [
    "from robot.running.runner import Runner\n",
    "# dir(Runner) # 可以看到如start_suite等方法"
   ]
  },
  {
   "cell_type": "markdown",
   "metadata": {},
   "source": [
    "#### signal监控 - 处理stop gracefully等"
   ]
  },
  {
   "cell_type": "code",
   "execution_count": 4,
   "metadata": {
    "collapsed": false
   },
   "outputs": [
    {
     "name": "stdout",
     "output_type": "stream",
     "text": [
      "a\n",
      "b\n",
      "c\n"
     ]
    }
   ],
   "source": [
    "from robot.running.signalhandler import STOP_SIGNAL_MONITOR\n",
    "with STOP_SIGNAL_MONITOR:\n",
    "    import time\n",
    "    print 'a'\n",
    "    time.sleep(2)\n",
    "    print 'b'\n",
    "    time.sleep(2)\n",
    "    print 'c'\n",
    "    time.sleep(2)"
   ]
  },
  {
   "cell_type": "markdown",
   "metadata": {},
   "source": [
    "Question:\n",
    "\n",
    "1. 为什么上面的例子还是把a,b,c都输出来了?\n",
    "1. 为什么执行Ctrl+C后之后的keyword都不执行了?"
   ]
  },
  {
   "cell_type": "markdown",
   "metadata": {},
   "source": [
    "#### timeout处理\n",
    "\n",
    "原理：根据平台和python版本不同，timeout有几种不同的实现方式。\n",
    "```python\n",
    "if sys.platform == 'cli':\n",
    "    from .timeoutthread import Timeout\n",
    "elif os.name == 'nt':\n",
    "    from .timeoutwin import Timeout\n",
    "else:\n",
    "    try:\n",
    "        # python 2.6 or newer in *nix or mac\n",
    "        from .timeoutsignaling import Timeout\n",
    "    except ImportError:\n",
    "        # python < 2.6 and jython don't have complete signal module\n",
    "        from .timeoutthread import Timeout\n",
    "```\n",
    "以Linux平台Python 2.7为例来展示一下它的工作方式。"
   ]
  },
  {
   "cell_type": "code",
   "execution_count": 6,
   "metadata": {
    "collapsed": false,
    "scrolled": true
   },
   "outputs": [
    {
     "name": "stdout",
     "output_type": "stream",
     "text": [
      "start\n"
     ]
    },
    {
     "ename": "TimeoutError",
     "evalue": "timeout",
     "output_type": "error",
     "traceback": [
      "\u001b[1;31m---------------------------------------------------------------------------\u001b[0m",
      "\u001b[1;31mTimeoutError\u001b[0m                              Traceback (most recent call last)",
      "\u001b[1;32m<ipython-input-6-62d589e1046c>\u001b[0m in \u001b[0;36m<module>\u001b[1;34m()\u001b[0m\n\u001b[0;32m      6\u001b[0m     \u001b[0mtime\u001b[0m\u001b[1;33m.\u001b[0m\u001b[0msleep\u001b[0m\u001b[1;33m(\u001b[0m\u001b[1;36m10\u001b[0m\u001b[1;33m)\u001b[0m\u001b[1;33m\u001b[0m\u001b[0m\n\u001b[0;32m      7\u001b[0m     \u001b[1;32mprint\u001b[0m \u001b[1;34m'end'\u001b[0m\u001b[1;33m\u001b[0m\u001b[0m\n\u001b[1;32m----> 8\u001b[1;33m \u001b[0mt\u001b[0m\u001b[1;33m.\u001b[0m\u001b[0mexecute\u001b[0m\u001b[1;33m(\u001b[0m\u001b[0mtest\u001b[0m\u001b[1;33m)\u001b[0m\u001b[1;33m\u001b[0m\u001b[0m\n\u001b[0m",
      "\u001b[1;32m/usr/local/lib/python2.7/dist-packages/robot/running/timeouts/timeoutsignaling.pyc\u001b[0m in \u001b[0;36mexecute\u001b[1;34m(self, runnable)\u001b[0m\n\u001b[0;32m     27\u001b[0m         \u001b[0mself\u001b[0m\u001b[1;33m.\u001b[0m\u001b[0m_start_timer\u001b[0m\u001b[1;33m(\u001b[0m\u001b[1;33m)\u001b[0m\u001b[1;33m\u001b[0m\u001b[0m\n\u001b[0;32m     28\u001b[0m         \u001b[1;32mtry\u001b[0m\u001b[1;33m:\u001b[0m\u001b[1;33m\u001b[0m\u001b[0m\n\u001b[1;32m---> 29\u001b[1;33m             \u001b[1;32mreturn\u001b[0m \u001b[0mrunnable\u001b[0m\u001b[1;33m(\u001b[0m\u001b[1;33m)\u001b[0m\u001b[1;33m\u001b[0m\u001b[0m\n\u001b[0m\u001b[0;32m     30\u001b[0m         \u001b[1;32mfinally\u001b[0m\u001b[1;33m:\u001b[0m\u001b[1;33m\u001b[0m\u001b[0m\n\u001b[0;32m     31\u001b[0m             \u001b[0mself\u001b[0m\u001b[1;33m.\u001b[0m\u001b[0m_stop_timer\u001b[0m\u001b[1;33m(\u001b[0m\u001b[1;33m)\u001b[0m\u001b[1;33m\u001b[0m\u001b[0m\n",
      "\u001b[1;32m<ipython-input-6-62d589e1046c>\u001b[0m in \u001b[0;36mtest\u001b[1;34m()\u001b[0m\n\u001b[0;32m      4\u001b[0m     \u001b[1;32mimport\u001b[0m \u001b[0mtime\u001b[0m\u001b[1;33m\u001b[0m\u001b[0m\n\u001b[0;32m      5\u001b[0m     \u001b[1;32mprint\u001b[0m \u001b[1;34m'start'\u001b[0m\u001b[1;33m\u001b[0m\u001b[0m\n\u001b[1;32m----> 6\u001b[1;33m     \u001b[0mtime\u001b[0m\u001b[1;33m.\u001b[0m\u001b[0msleep\u001b[0m\u001b[1;33m(\u001b[0m\u001b[1;36m10\u001b[0m\u001b[1;33m)\u001b[0m\u001b[1;33m\u001b[0m\u001b[0m\n\u001b[0m\u001b[0;32m      7\u001b[0m     \u001b[1;32mprint\u001b[0m \u001b[1;34m'end'\u001b[0m\u001b[1;33m\u001b[0m\u001b[0m\n\u001b[0;32m      8\u001b[0m \u001b[0mt\u001b[0m\u001b[1;33m.\u001b[0m\u001b[0mexecute\u001b[0m\u001b[1;33m(\u001b[0m\u001b[0mtest\u001b[0m\u001b[1;33m)\u001b[0m\u001b[1;33m\u001b[0m\u001b[0m\n",
      "\u001b[1;32m/usr/local/lib/python2.7/dist-packages/robot/running/timeouts/timeoutsignaling.pyc\u001b[0m in \u001b[0;36m_raise_timeout_error\u001b[1;34m(self, signum, frame)\u001b[0m\n\u001b[0;32m     36\u001b[0m \u001b[1;33m\u001b[0m\u001b[0m\n\u001b[0;32m     37\u001b[0m     \u001b[1;32mdef\u001b[0m \u001b[0m_raise_timeout_error\u001b[0m\u001b[1;33m(\u001b[0m\u001b[0mself\u001b[0m\u001b[1;33m,\u001b[0m \u001b[0msignum\u001b[0m\u001b[1;33m,\u001b[0m \u001b[0mframe\u001b[0m\u001b[1;33m)\u001b[0m\u001b[1;33m:\u001b[0m\u001b[1;33m\u001b[0m\u001b[0m\n\u001b[1;32m---> 38\u001b[1;33m         \u001b[1;32mraise\u001b[0m \u001b[0mTimeoutError\u001b[0m\u001b[1;33m(\u001b[0m\u001b[0mself\u001b[0m\u001b[1;33m.\u001b[0m\u001b[0m_error\u001b[0m\u001b[1;33m)\u001b[0m\u001b[1;33m\u001b[0m\u001b[0m\n\u001b[0m\u001b[0;32m     39\u001b[0m \u001b[1;33m\u001b[0m\u001b[0m\n\u001b[0;32m     40\u001b[0m     \u001b[1;32mdef\u001b[0m \u001b[0m_stop_timer\u001b[0m\u001b[1;33m(\u001b[0m\u001b[0mself\u001b[0m\u001b[1;33m)\u001b[0m\u001b[1;33m:\u001b[0m\u001b[1;33m\u001b[0m\u001b[0m\n",
      "\u001b[1;31mTimeoutError\u001b[0m: timeout"
     ]
    }
   ],
   "source": [
    "from robot.running.timeouts import Timeout\n",
    "t = Timeout(1, 'timeout')\n",
    "\n",
    "def test():\n",
    "    import time\n",
    "    print 'start'\n",
    "    time.sleep(10)\n",
    "    print 'end'\n",
    "\n",
    "t.execute(test)"
   ]
  },
  {
   "cell_type": "code",
   "execution_count": 10,
   "metadata": {
    "collapsed": false
   },
   "outputs": [
    {
     "name": "stdout",
     "output_type": "stream",
     "text": [
      "start\n"
     ]
    },
    {
     "ename": "RuntimeError",
     "evalue": "timeout",
     "output_type": "error",
     "traceback": [
      "\u001b[1;31m---------------------------------------------------------------------------\u001b[0m",
      "\u001b[1;31mRuntimeError\u001b[0m                              Traceback (most recent call last)",
      "\u001b[1;32m<ipython-input-10-d41837dbbacd>\u001b[0m in \u001b[0;36m<module>\u001b[1;34m()\u001b[0m\n\u001b[0;32m     13\u001b[0m \u001b[0msignal\u001b[0m\u001b[1;33m(\u001b[0m\u001b[0mSIGALRM\u001b[0m\u001b[1;33m,\u001b[0m \u001b[0m_raise_error\u001b[0m\u001b[1;33m)\u001b[0m\u001b[1;33m\u001b[0m\u001b[0m\n\u001b[0;32m     14\u001b[0m \u001b[0msetitimer\u001b[0m\u001b[1;33m(\u001b[0m\u001b[0mITIMER_REAL\u001b[0m\u001b[1;33m,\u001b[0m \u001b[1;36m1\u001b[0m\u001b[1;33m)\u001b[0m\u001b[1;33m\u001b[0m\u001b[0m\n\u001b[1;32m---> 15\u001b[1;33m \u001b[0mtest\u001b[0m\u001b[1;33m(\u001b[0m\u001b[1;33m)\u001b[0m\u001b[1;33m\u001b[0m\u001b[0m\n\u001b[0m",
      "\u001b[1;32m<ipython-input-10-d41837dbbacd>\u001b[0m in \u001b[0;36mtest\u001b[1;34m()\u001b[0m\n\u001b[0;32m      8\u001b[0m     \u001b[1;32mimport\u001b[0m \u001b[0mtime\u001b[0m\u001b[1;33m\u001b[0m\u001b[0m\n\u001b[0;32m      9\u001b[0m     \u001b[1;32mprint\u001b[0m \u001b[1;34m'start'\u001b[0m\u001b[1;33m\u001b[0m\u001b[0m\n\u001b[1;32m---> 10\u001b[1;33m     \u001b[0mtime\u001b[0m\u001b[1;33m.\u001b[0m\u001b[0msleep\u001b[0m\u001b[1;33m(\u001b[0m\u001b[1;36m10\u001b[0m\u001b[1;33m)\u001b[0m\u001b[1;33m\u001b[0m\u001b[0m\n\u001b[0m\u001b[0;32m     11\u001b[0m     \u001b[1;32mprint\u001b[0m \u001b[1;34m'end'\u001b[0m\u001b[1;33m\u001b[0m\u001b[0m\n\u001b[0;32m     12\u001b[0m \u001b[1;33m\u001b[0m\u001b[0m\n",
      "\u001b[1;32m<ipython-input-10-d41837dbbacd>\u001b[0m in \u001b[0;36m_raise_error\u001b[1;34m(signum, frame)\u001b[0m\n\u001b[0;32m      3\u001b[0m \u001b[1;33m\u001b[0m\u001b[0m\n\u001b[0;32m      4\u001b[0m \u001b[1;32mdef\u001b[0m \u001b[0m_raise_error\u001b[0m\u001b[1;33m(\u001b[0m\u001b[0msignum\u001b[0m\u001b[1;33m,\u001b[0m \u001b[0mframe\u001b[0m\u001b[1;33m)\u001b[0m\u001b[1;33m:\u001b[0m\u001b[1;33m\u001b[0m\u001b[0m\n\u001b[1;32m----> 5\u001b[1;33m     \u001b[1;32mraise\u001b[0m \u001b[0mRuntimeError\u001b[0m\u001b[1;33m(\u001b[0m\u001b[1;34m'timeout'\u001b[0m\u001b[1;33m)\u001b[0m\u001b[1;33m\u001b[0m\u001b[0m\n\u001b[0m\u001b[0;32m      6\u001b[0m \u001b[1;33m\u001b[0m\u001b[0m\n\u001b[0;32m      7\u001b[0m \u001b[1;32mdef\u001b[0m \u001b[0mtest\u001b[0m\u001b[1;33m(\u001b[0m\u001b[1;33m)\u001b[0m\u001b[1;33m:\u001b[0m\u001b[1;33m\u001b[0m\u001b[0m\n",
      "\u001b[1;31mRuntimeError\u001b[0m: timeout"
     ]
    }
   ],
   "source": [
    "# 它的内部工作原理还是基于signal\n",
    "from signal import setitimer, signal, SIGALRM, ITIMER_REAL\n",
    "\n",
    "def _raise_error(signum, frame):\n",
    "    raise RuntimeError('timeout')\n",
    "    \n",
    "def test():\n",
    "    import time\n",
    "    print 'start'\n",
    "    time.sleep(10)\n",
    "    print 'end'\n",
    "    \n",
    "signal(SIGALRM, _raise_error)\n",
    "setitimer(ITIMER_REAL, 1)\n",
    "test()"
   ]
  },
  {
   "cell_type": "markdown",
   "metadata": {},
   "source": [
    "#### arguments处理"
   ]
  },
  {
   "cell_type": "code",
   "execution_count": 53,
   "metadata": {
    "collapsed": false
   },
   "outputs": [],
   "source": [
    "from robot.running.arguments import argumentparser # ..."
   ]
  },
  {
   "cell_type": "markdown",
   "metadata": {},
   "source": [
    "#### defaults - 运行时的默认数据"
   ]
  },
  {
   "cell_type": "code",
   "execution_count": 69,
   "metadata": {
    "collapsed": false
   },
   "outputs": [],
   "source": [
    "from robot.running.defaults import TestDefaults # 基于robot.parsing.model.TestData得到的setting_table\n",
    "from robot.running.defaults import TestValues # 基于robot.parsing.model.TestData得到的testcase_table\n",
    "from robot.api import TestData\n",
    "data = TestData(source='examples/kw-driven.robot')\n",
    "defaults = TestDefaults(data.setting_table)\n",
    "values = TestValues(data.testcase_table.tests[0], defaults)\n",
    "#print values.template, values.timeout, values.tags"
   ]
  },
  {
   "cell_type": "markdown",
   "metadata": {},
   "source": [
    "#### 某些工具类"
   ]
  },
  {
   "cell_type": "code",
   "execution_count": 72,
   "metadata": {
    "collapsed": false
   },
   "outputs": [],
   "source": [
    "from robot.running.importer import Importer\n",
    "from robot.running.outputcapture import OutputCapturer\n",
    "from robot.running.randomizer import Randomizer\n",
    "from robot.running.runkwregister import RUN_KW_REGISTER\n",
    "from robot.running.usererrorhandler import UserErrorHandler"
   ]
  },
  {
   "cell_type": "markdown",
   "metadata": {},
   "source": [
    "----"
   ]
  },
  {
   "cell_type": "markdown",
   "metadata": {},
   "source": [
    "### robot.result"
   ]
  },
  {
   "cell_type": "markdown",
   "metadata": {},
   "source": [
    "**robot.result**是XML output的解析模块, 它的主要功能是将output.xml转换为Result对象"
   ]
  },
  {
   "cell_type": "code",
   "execution_count": null,
   "metadata": {
    "collapsed": false
   },
   "outputs": [],
   "source": [
    "# 从output.xml文件创建Result对象\n",
    "from robot.result import  ExecutionResult\n",
    "result = ExecutionResult('output.xml')"
   ]
  },
  {
   "cell_type": "code",
   "execution_count": null,
   "metadata": {
    "collapsed": false
   },
   "outputs": [],
   "source": [
    "#  Result vs. CombinedResult\n",
    "from robot.result.resultbuilder import CombinedResult, Result, Merger"
   ]
  },
  {
   "cell_type": "markdown",
   "metadata": {},
   "source": [
    "#### result阶段的model"
   ]
  },
  {
   "cell_type": "code",
   "execution_count": null,
   "metadata": {
    "collapsed": false
   },
   "outputs": [],
   "source": [
    "from robot.result.testsuite import TestSuite\n",
    "from robot.result.testcase import  TestCase\n",
    "from robot.result.keyword import Keyword"
   ]
  },
  {
   "cell_type": "markdown",
   "metadata": {},
   "source": [
    "----"
   ]
  },
  {
   "cell_type": "markdown",
   "metadata": {},
   "source": [
    "### robot.reporting"
   ]
  },
  {
   "cell_type": "markdown",
   "metadata": {},
   "source": [
    "**robot.reporting**主要用于生成log.html和report.html, 除此以外, 它的功能还有:\n",
    "\n",
    "* 生成新的output.xml\n",
    "* log.html中js部分的生成器 (用于动态加载优化性能和解决内存问题)"
   ]
  },
  {
   "cell_type": "code",
   "execution_count": 73,
   "metadata": {
    "collapsed": false
   },
   "outputs": [],
   "source": [
    "# log.html & report.html\n",
    "from robot.reporting.resultwriter import ResultWriter, ReportWriter"
   ]
  },
  {
   "cell_type": "code",
   "execution_count": 74,
   "metadata": {
    "collapsed": false
   },
   "outputs": [],
   "source": [
    "# output.xml\n",
    "from robot.reporting.outputwriter import OutputWriter"
   ]
  },
  {
   "cell_type": "code",
   "execution_count": 75,
   "metadata": {
    "collapsed": false
   },
   "outputs": [],
   "source": [
    "# js writer\n",
    "from robot.reporting.jswriter import JsResultWriter, SplitLogWriter, JsonWriter"
   ]
  },
  {
   "cell_type": "markdown",
   "metadata": {},
   "source": [
    "----"
   ]
  },
  {
   "cell_type": "markdown",
   "metadata": {},
   "source": [
    "## 不同阶段的model"
   ]
  },
  {
   "cell_type": "markdown",
   "metadata": {},
   "source": [
    "在不同的阶段都有对应的model, 另外robot还有一个robot.model模块.\n",
    "\n",
    "大部分的model都继承自robot.model中的相关类.\n",
    "\n",
    "但是robot.parsing.model除外. 怀疑是RobotFramework的遗留代码没有重构完导致的.\n",
    "\n",
    "* robot.model\n",
    "* robot.parsing.model\n",
    "* robot.running.model\n",
    "* robot.result.\"model\""
   ]
  },
  {
   "cell_type": "markdown",
   "metadata": {},
   "source": [
    "----"
   ]
  },
  {
   "cell_type": "raw",
   "metadata": {},
   "source": [
    "让我们通过一些问题来组织一下前面的内容"
   ]
  },
  {
   "cell_type": "markdown",
   "metadata": {},
   "source": [
    "## Q: 你知道执行pybot后RobotFramework都做了些什么吗?"
   ]
  },
  {
   "cell_type": "markdown",
   "metadata": {},
   "source": [
    "* 实例化robot.run.RobotFramework\n",
    "* 命令行参数解析\n",
    "* 实例化RobotSettings\n",
    "* 设置LOGGER\n",
    "* 生成TestSuite\n",
    "* 执行TestSuite\n",
    "* 写入log和report\n",
    "* 判断测试结果\n",
    "* 结束进程"
   ]
  },
  {
   "cell_type": "markdown",
   "metadata": {},
   "source": [
    "这里写入log和report为optional步骤"
   ]
  },
  {
   "cell_type": "code",
   "execution_count": 82,
   "metadata": {
    "collapsed": false
   },
   "outputs": [
    {
     "ename": "SystemExit",
     "evalue": "0",
     "output_type": "error",
     "traceback": [
      "An exception has occurred, use %tb to see the full traceback.\n",
      "\u001b[1;31mSystemExit\u001b[0m\u001b[1;31m:\u001b[0m 0\n"
     ]
    },
    {
     "name": "stderr",
     "output_type": "stream",
     "text": [
      "To exit: use 'exit', 'quit', or Ctrl-D.\n"
     ]
    }
   ],
   "source": [
    "from robot.run import run_cli\n",
    "run_cli(['examples/kw-driven.robot'])"
   ]
  },
  {
   "cell_type": "markdown",
   "metadata": {},
   "source": [
    "----"
   ]
  },
  {
   "cell_type": "markdown",
   "metadata": {},
   "source": [
    "## Q: 你知道RobotFramework是怎么找到指定的keyword的吗?"
   ]
  },
  {
   "cell_type": "markdown",
   "metadata": {},
   "source": [
    "1. 当前case中的user keyword\n",
    "1. resource文件中定义的user keyword\n",
    "1. library中定义的keyword"
   ]
  },
  {
   "cell_type": "code",
   "execution_count": null,
   "metadata": {
    "collapsed": false
   },
   "outputs": [],
   "source": [
    "# 相关代码\n",
    "# robot.running.namespace\n",
    "def _get_implicit_handler(self, name):\n",
    "    for method in [self._get_handler_from_test_case_file_user_keywords,\n",
    "                   self._get_handler_from_resource_file_user_keywords,\n",
    "                   self._get_handler_from_library_keywords]:\n",
    "        handler = method(name)\n",
    "        if handler:\n",
    "            return handler\n",
    "    return None"
   ]
  },
  {
   "cell_type": "markdown",
   "metadata": {},
   "source": [
    "----"
   ]
  },
  {
   "cell_type": "markdown",
   "metadata": {},
   "source": [
    "## Q: 你知道RobotFramework是如何导入Library的?"
   ]
  },
  {
   "cell_type": "markdown",
   "metadata": {},
   "source": [
    "1. 将library名字import为class或者module\n",
    "1. 根据不同的library类型生成对应的Library class"
   ]
  },
  {
   "cell_type": "code",
   "execution_count": 83,
   "metadata": {
    "collapsed": false
   },
   "outputs": [],
   "source": [
    "# 相关代码\n",
    "# robot.running.testlibraries\n",
    "def TestLibrary(name, args=None, variables=None, create_handlers=True):\n",
    "    with OutputCapturer(library_import=True):\n",
    "        importer = Importer('test library')\n",
    "        libcode = importer.import_class_or_module(name)\n",
    "    libclass = _get_lib_class(libcode)\n",
    "    lib = libclass(libcode, name, args or [], variables)\n",
    "    if create_handlers:\n",
    "        lib.create_handlers()\n",
    "    return lib"
   ]
  },
  {
   "cell_type": "code",
   "execution_count": 85,
   "metadata": {
    "collapsed": false
   },
   "outputs": [],
   "source": [
    "# 引申: module library的keyword来源\n",
    "\n",
    "# robot.running.testlibraries\n",
    "# 动态library的keywords列表\n",
    "def _get_handler_names(self, instance):\n",
    "    try:\n",
    "        return instance.get_keyword_names()\n",
    "    except AttributeError:\n",
    "        return instance.getKeywordNames()\n",
    "\n",
    "# robot.running.namespace\n",
    "# 处理keyword名字的方式\n",
    "def _get_handler(self, name):\n",
    "    handler = None\n",
    "    if not name:\n",
    "        raise DataError('Keyword name cannot be empty.')\n",
    "    if not isinstance(name, basestring):\n",
    "        raise DataError('Keyword name must be a string.')\n",
    "    if '.' in name:\n",
    "        handler = self._get_explicit_handler(name)\n",
    "    if not handler:\n",
    "        handler = self._get_implicit_handler(name)\n",
    "    if not handler:\n",
    "        handler = self._get_bdd_style_handler(name)\n",
    "    if not handler:\n",
    "        handler = self._get_x_times_handler(name)\n",
    "    return handler"
   ]
  },
  {
   "cell_type": "markdown",
   "metadata": {},
   "source": [
    "----"
   ]
  },
  {
   "cell_type": "markdown",
   "metadata": {},
   "source": [
    "## Q: 你知道suite的默认执行顺序是什么吗?"
   ]
  },
  {
   "cell_type": "markdown",
   "metadata": {},
   "source": [
    "![suite order](img/suite.png)"
   ]
  },
  {
   "cell_type": "code",
   "execution_count": 86,
   "metadata": {
    "collapsed": false
   },
   "outputs": [],
   "source": [
    "# 相关代码\n",
    "# robot.parsing.populators.FromDirectoryPopulator\n",
    "def _list_dir(self, path):\n",
    "    # os.listdir returns Unicode entries when path is Unicode\n",
    "    names = os.listdir(unic(path))\n",
    "    for name in sorted(names, key=unicode.lower):\n",
    "        # unic needed to handle nfc/nfd normalization on OSX\n",
    "        yield unic(name), unic(os.path.join(path, name))"
   ]
  },
  {
   "cell_type": "markdown",
   "metadata": {},
   "source": [
    "----"
   ]
  },
  {
   "cell_type": "markdown",
   "metadata": {},
   "source": [
    "## Q: 你知道suite的随机执行顺序是什么样的吗?"
   ]
  },
  {
   "cell_type": "code",
   "execution_count": 90,
   "metadata": {
    "collapsed": false
   },
   "outputs": [
    {
     "data": {
      "text/plain": [
       "[8, 4, 6, 9, 5, 0, 1, 3, 2, 7]"
      ]
     },
     "execution_count": 90,
     "metadata": {},
     "output_type": "execute_result"
    }
   ],
   "source": [
    "from robot.model.visitor import SuiteVisitor\n",
    "class Randomizer(SuiteVisitor):\n",
    "\n",
    "    def __init__(self, randomize_suites=True, randomize_tests=True, seed=None):\n",
    "        # ......\n",
    "        args = (seed,) if seed is not None else ()\n",
    "        self._shuffle = Random(*args).shuffle\n",
    "\n",
    "    def start_suite(self, suite):\n",
    "        # ......\n",
    "        if self.randomize_suites:\n",
    "            self._shuffle(suite.suites)\n",
    "        if self.randomize_tests:\n",
    "            self._shuffle(suite.tests)\n",
    "        # ......\n",
    "        \n",
    "# 类似效果如下:\n",
    "from random import Random\n",
    "shuffle = Random().shuffle\n",
    "_set = range(10)\n",
    "shuffle(_set)\n",
    "_set"
   ]
  },
  {
   "cell_type": "markdown",
   "metadata": {},
   "source": [
    "----"
   ]
  },
  {
   "cell_type": "markdown",
   "metadata": {},
   "source": [
    "## Q: 你知道Listener是怎么工作的吗?"
   ]
  },
  {
   "cell_type": "markdown",
   "metadata": {},
   "source": [
    "* robot.output.listeners\n",
    "* 将listeners追加到LOGGER\n",
    "* 进行LOGGER操作的时候执行listener的对应接口"
   ]
  },
  {
   "cell_type": "markdown",
   "metadata": {},
   "source": [
    "----"
   ]
  },
  {
   "cell_type": "markdown",
   "metadata": {},
   "source": [
    "## Q: 你知道RobotFramework的Stop Gracefully是怎么实现的吗?"
   ]
  },
  {
   "cell_type": "code",
   "execution_count": 4,
   "metadata": {
    "collapsed": false
   },
   "outputs": [],
   "source": [
    "# robot.running.model.TestSuite的run方法\n",
    "# robot.running.signalhandler\n",
    "# 通过signal.signal来实现Ctrl+C的监听\n",
    "from robot.running.signalhandler import STOP_SIGNAL_MONITOR\n",
    "from robot.output import pyloggingconf\n",
    "\n",
    "# robot.running.model\n",
    "def run(self, settings=None, **options):\n",
    "    if not settings:\n",
    "        settings = RobotSettings(options)\n",
    "        LOGGER.register_console_logger(**settings.console_logger_config)\n",
    "    with pyloggingconf.robot_handler_enabled(settings.log_level):\n",
    "        with STOP_SIGNAL_MONITOR:\n",
    "            IMPORTER.reset()\n",
    "            init_global_variables(settings)\n",
    "            output = Output(settings)\n",
    "            runner = Runner(output, settings)\n",
    "            self.visit(runner)\n",
    "        output.close(runner.result)\n",
    "    return runner.result\n",
    "\n",
    "\n",
    "# robot.running.handlers\n",
    "def _run_with_signal_monitoring(self, runner, context):\n",
    "    try:\n",
    "        STOP_SIGNAL_MONITOR.start_running_keyword(context.in_teardown)\n",
    "        return runner()\n",
    "    finally:\n",
    "        STOP_SIGNAL_MONITOR.stop_running_keyword()\n"
   ]
  },
  {
   "cell_type": "markdown",
   "metadata": {},
   "source": [
    "----"
   ]
  },
  {
   "cell_type": "markdown",
   "metadata": {},
   "source": [
    "## Q: 你知道RobotFramework的Test Timeout是怎么做的吗?"
   ]
  },
  {
   "cell_type": "markdown",
   "metadata": {},
   "source": [
    "* 执行时在开始执行test或keyword的时候, 设置Timeout\n",
    "    * robot.running.model.TestCase\n",
    "* 以Python2.7 Linux平台为例\n",
    "    * robot.running.timeouts.timeoutsignaling.Timeout\n",
    "* 通过signal模块的setitimer和SIGALRM信号来实现"
   ]
  },
  {
   "cell_type": "code",
   "execution_count": 95,
   "metadata": {
    "collapsed": false
   },
   "outputs": [
    {
     "data": {
      "text/plain": [
       "(0.0, 0.0)"
      ]
     },
     "execution_count": 95,
     "metadata": {},
     "output_type": "execute_result"
    }
   ],
   "source": [
    "from signal import signal, setitimer, SIGALRM, ITIMER_REAL\n",
    "def show_error(signum, frame):\n",
    "    print 'timeout got'\n",
    "signal(SIGALRM, show_error)\n",
    "setitimer(ITIMER_REAL, 5)"
   ]
  },
  {
   "cell_type": "markdown",
   "metadata": {},
   "source": [
    "----"
   ]
  },
  {
   "cell_type": "markdown",
   "metadata": {},
   "source": [
    "## 练习一: 阅读相关代码, 理清RobotFramework是怎么写入log的"
   ]
  },
  {
   "cell_type": "markdown",
   "metadata": {},
   "source": [
    "## 练习二: 阅读相关代码, 理清dry-run是怎么实现的,有哪些局限性"
   ]
  }
 ],
 "metadata": {
  "kernelspec": {
   "display_name": "Python 2",
   "language": "python",
   "name": "python2"
  },
  "language_info": {
   "codemirror_mode": {
    "name": "ipython",
    "version": 2
   },
   "file_extension": ".py",
   "mimetype": "text/x-python",
   "name": "python",
   "nbconvert_exporter": "python",
   "pygments_lexer": "ipython2",
   "version": "2.7.6"
  }
 },
 "nbformat": 4,
 "nbformat_minor": 0
}
