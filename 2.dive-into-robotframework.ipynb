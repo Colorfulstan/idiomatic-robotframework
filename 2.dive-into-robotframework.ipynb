{
 "cells": [
  {
   "cell_type": "markdown",
   "metadata": {
    "slideshow": {
     "slide_type": "slide"
    }
   },
   "source": [
    "# PART 2: Dive Into RobotFramework"
   ]
  },
  {
   "cell_type": "markdown",
   "metadata": {
    "slideshow": {
     "slide_type": "subslide"
    }
   },
   "source": [
    "## Agenda\n",
    "\n",
    "* RobotFramework的开发和维护\n",
    "* RobotFramework的整体工作流\n",
    "* 从pybot命令开始\n",
    "* RobotFramework的主要模块\n",
    "* 一些常见的问题\n",
    "* 练习"
   ]
  },
  {
   "cell_type": "markdown",
   "metadata": {},
   "source": [
    "## RobotFramework的开发和维护"
   ]
  },
  {
   "cell_type": "markdown",
   "metadata": {},
   "source": [
    "我们首先来探寻一下RobotFramework的开发模式. \n",
    "* open source，所有的代码、文档、issue都在[github](https://github.com/robotframework/robotframework)上\n",
    "* master分支总是可用的\n",
    "* UT & AT\n",
    "* 使用**pull request**来进行code review\n",
    "* 使用milestone来进行项目进度管理,如https://github.com/robotframework/robotframework/milestones"
   ]
  },
  {
   "cell_type": "markdown",
   "metadata": {
    "slideshow": {
     "slide_type": "subslide"
    }
   },
   "source": [
    "## RobotFramework的测试"
   ]
  },
  {
   "cell_type": "markdown",
   "metadata": {
    "slideshow": {
     "slide_type": "subslide"
    }
   },
   "source": [
    "### Unit Testing\n",
    "\n",
    "```sh\n",
    "python utest/run_utests.py\n",
    "```"
   ]
  },
  {
   "cell_type": "markdown",
   "metadata": {
    "slideshow": {
     "slide_type": "subslide"
    }
   },
   "source": [
    "### Acceptance Testing\n",
    "\n",
    "```sh\n",
    "python atest/run_atests.py python robot\n",
    "```"
   ]
  },
  {
   "cell_type": "markdown",
   "metadata": {},
   "source": [
    "## RobotFramework的整体工作流\n",
    "\n",
    "![RobotFramework Workflow](img/robot_workflow.svg \"RobotFramework Workflow\")"
   ]
  },
  {
   "cell_type": "markdown",
   "metadata": {},
   "source": [
    "## 从pybot命令行开始。。。"
   ]
  },
  {
   "cell_type": "markdown",
   "metadata": {},
   "source": [
    "### /usr/local/bin/pybot\n",
    "\n",
    "```python\n",
    "#!/usr/bin/python\n",
    "\n",
    "import sys\n",
    "from robot import run_cli\n",
    "\n",
    "run_cli(sys.argv[1:])\n",
    "```"
   ]
  },
  {
   "cell_type": "markdown",
   "metadata": {},
   "source": [
    "```python\n",
    "# robot.run.run_cli\n",
    "def run_cli(arguments):\n",
    "    \"\"\"Command line execution entry point for running tests.\n",
    "\n",
    "    :param arguments: Command line arguments as a list of strings.\n",
    "\n",
    "    For programmatic usage the :func:`run` function is typically better. It has\n",
    "    a better API for that usage and does not call :func:`sys.exit` like this\n",
    "    function.\n",
    "\n",
    "    Example::\n",
    "\n",
    "        from robot import run_cli\n",
    "\n",
    "        run_cli(['--include', 'tag', 'path/to/tests.html'])\n",
    "    \"\"\"\n",
    "    RobotFramework().execute_cli(arguments)\n",
    "```"
   ]
  },
  {
   "cell_type": "markdown",
   "metadata": {},
   "source": [
    "```python\n",
    "# robot.run.RobotFramework\n",
    "class RobotFramework(Application):\n",
    "\n",
    "    def __init__(self):\n",
    "        Application.__init__(self, USAGE, arg_limits=(1,),\n",
    "                             env_options='ROBOT_OPTIONS', logger=LOGGER)\n",
    "\n",
    "    def main(self, datasources, **options):\n",
    "        settings = RobotSettings(options)\n",
    "        LOGGER.register_console_logger(**settings.console_logger_config)\n",
    "        LOGGER.info('Settings:\\n%s' % unicode(settings))\n",
    "        suite = TestSuiteBuilder(settings['SuiteNames'],\n",
    "                                 settings['WarnOnSkipped'],\n",
    "                                 settings['RunEmptySuite']).build(*datasources)\n",
    "        suite.configure(**settings.suite_config)\n",
    "        with pyloggingconf.robot_handler_enabled(settings.log_level):\n",
    "            result = suite.run(settings)\n",
    "            LOGGER.info(\"Tests execution ended. Statistics:\\n%s\"\n",
    "                        % result.suite.stat_message)\n",
    "            if settings.log or settings.report or settings.xunit:\n",
    "                writer = ResultWriter(settings.output if settings.log\n",
    "                                      else result)\n",
    "                writer.write_results(settings.get_rebot_settings())\n",
    "        return result.return_code\n",
    "\n",
    "    def validate(self, options, arguments):\n",
    "        return self._filter_options_without_value(options), arguments\n",
    "\n",
    "    def _filter_options_without_value(self, options):\n",
    "        return dict((name, value) for name, value in options.items() if value)\n",
    "```"
   ]
  },
  {
   "cell_type": "markdown",
   "metadata": {},
   "source": [
    "```python\n",
    "# robot.utils.application.Application\n",
    "class Application(object):\n",
    "\n",
    "    def __init__(self, usage, name=None, version=None, arg_limits=None,\n",
    "                 env_options=None, logger=None, **auto_options):\n",
    "        self._ap = ArgumentParser(usage, name, version, arg_limits,\n",
    "                                  self.validate, env_options, **auto_options)\n",
    "        self._logger = logger or DefaultLogger()\n",
    "\n",
    "    def main(self, arguments, **options):\n",
    "        raise NotImplementedError\n",
    "\n",
    "    def execute_cli(self, cli_arguments):\n",
    "        with self._logging():\n",
    "            options, arguments = self._parse_arguments(cli_arguments)\n",
    "            rc = self._execute(arguments, options)\n",
    "        self._exit(rc)\n",
    "\n",
    "    def execute(self, *arguments, **options):\n",
    "        with self._logging():\n",
    "            return self._execute(list(arguments), options)\n",
    "\n",
    "    def _execute(self, arguments, options):\n",
    "        try:\n",
    "            rc = self.main(arguments, **options)\n",
    "        except DataError, err:\n",
    "            return self._report_error(unicode(err), help=True)\n",
    "        except (KeyboardInterrupt, SystemExit):\n",
    "            return self._report_error('Execution stopped by user.',\n",
    "                                      rc=STOPPED_BY_USER)\n",
    "        except:\n",
    "            error, details = get_error_details()\n",
    "            return self._report_error('Unexpected error: %s' % error,\n",
    "                                      details, rc=FRAMEWORK_ERROR)\n",
    "        else:\n",
    "            return rc or 0\n",
    "```"
   ]
  },
  {
   "cell_type": "markdown",
   "metadata": {},
   "source": [
    "## RobotFramework的主要模块"
   ]
  },
  {
   "cell_type": "code",
   "execution_count": 1,
   "metadata": {
    "collapsed": false
   },
   "outputs": [
    {
     "data": {
      "text/plain": [
       "['conf',\n",
       " 'errors',\n",
       " 'htmldata',\n",
       " 'model',\n",
       " 'output',\n",
       " 'parsing',\n",
       " 'reporting',\n",
       " 'result',\n",
       " 'run',\n",
       " 'running',\n",
       " 'utils',\n",
       " 'variables',\n",
       " 'writer']"
      ]
     },
     "execution_count": 1,
     "metadata": {},
     "output_type": "execute_result"
    }
   ],
   "source": [
    "import robot\n",
    "filter(lambda x: not x.startswith('_') and x not in ('sys', 'version', 'get_version', 'pythonpathsetter', 'run_cli', 'rebot', 'rebot_cli'), dir(robot))"
   ]
  },
  {
   "cell_type": "markdown",
   "metadata": {},
   "source": [
    "我们考虑其中主要的模块:\n",
    "* robot.run\n",
    "* robot.model\n",
    "* robot.parsing\n",
    "* robot.running\n",
    "* robot.output\n",
    "* robot.result\n",
    "* robot.reporting\n"
   ]
  },
  {
   "cell_type": "markdown",
   "metadata": {},
   "source": [
    "### robot.run"
   ]
  },
  {
   "cell_type": "code",
   "execution_count": 15,
   "metadata": {
    "collapsed": false
   },
   "outputs": [],
   "source": [
    "from robot.run import RobotFramework # main class\n",
    "from robot.run import run # 执行入口\n",
    "from robot.run import run_cli # 命令行执行入口"
   ]
  },
  {
   "cell_type": "markdown",
   "metadata": {},
   "source": [
    "RobotFramework的主要代码\n",
    "```python\n",
    "class RobotFramework(Application):\n",
    "\n",
    "    def __init__(self):\n",
    "        Application.__init__(self, USAGE, arg_limits=(1,),\n",
    "                             env_options='ROBOT_OPTIONS', logger=LOGGER)\n",
    "\n",
    "    def main(self, datasources, **options):\n",
    "        settings = RobotSettings(options)\n",
    "        LOGGER.register_console_logger(**settings.console_logger_config)\n",
    "        LOGGER.info('Settings:\\n%s' % unicode(settings))\n",
    "        suite = TestSuiteBuilder(settings['SuiteNames'],\n",
    "                                 settings['WarnOnSkipped'],\n",
    "                                 settings['RunEmptySuite']).build(*datasources)\n",
    "        suite.configure(**settings.suite_config)\n",
    "        with pyloggingconf.robot_handler_enabled(settings.log_level):\n",
    "            result = suite.run(settings)\n",
    "            LOGGER.info(\"Tests execution ended. Statistics:\\n%s\"\n",
    "                        % result.suite.stat_message)\n",
    "            if settings.log or settings.report or settings.xunit:\n",
    "                writer = ResultWriter(settings.output if settings.log\n",
    "                                      else result)\n",
    "                writer.write_results(settings.get_rebot_settings())\n",
    "        return result.return_code\n",
    "```"
   ]
  },
  {
   "cell_type": "markdown",
   "metadata": {},
   "source": [
    "run和run_cli的代码\n",
    "```python\n",
    "def run_cli(arguments):\n",
    "    RobotFramework().execute_cli(arguments)\n",
    "\n",
    "\n",
    "def run(*datasources, **options):\n",
    "    return RobotFramework().execute(*datasources, **options)\n",
    "```"
   ]
  },
  {
   "cell_type": "markdown",
   "metadata": {},
   "source": [
    "### robot.model"
   ]
  },
  {
   "cell_type": "markdown",
   "metadata": {},
   "source": [
    "类似通常**MVC**框架中的model, 是RobotFramework中的数据抽象层.\n",
    "robot.model中的代码大致包含以下几类:\n",
    "\n",
    "* 基本类型\n",
    "* RobotFramework  suite/case/keyword等的抽象\n",
    "* 构建上述抽象类的工厂\n",
    "* **visitor**"
   ]
  },
  {
   "cell_type": "code",
   "execution_count": 23,
   "metadata": {
    "collapsed": false
   },
   "outputs": [],
   "source": [
    "# 基本类型\n",
    "from robot.model.modelobject import ModelObject\n",
    "from robot.model.itemlist import ItemList"
   ]
  },
  {
   "cell_type": "code",
   "execution_count": 28,
   "metadata": {
    "collapsed": false
   },
   "outputs": [],
   "source": [
    "# RobotFramework suite/case/keyword等的抽象\n",
    "from robot.model.testsuite import TestSuite, TestSuites\n",
    "from robot.model.testcase import TestCase, TestCases\n",
    "from robot.model.imports import Import, Imports\n",
    "from robot.model.keyword import Keyword, Keywords\n",
    "from robot.model.message import Message, Messages\n",
    "from robot.model.metadata import Metadata\n",
    "from robot.model.tags import Tags\n",
    "from robot.model.suitestatistics import SuiteStatistics\n",
    "from robot.model.tagstatistics import TagStatistics\n",
    "from robot.model.totalstatistics import TotalStatistics\n",
    "from robot.model.stats import SuiteStat, TagStat, TotalStat"
   ]
  },
  {
   "cell_type": "code",
   "execution_count": 29,
   "metadata": {
    "collapsed": false
   },
   "outputs": [],
   "source": [
    "# 构建抽象类的工厂\n",
    "from robot.model.configurer import SuiteConfigurer\n",
    "from robot.model.statistics import  StatisticsBuilder\n",
    "from robot.model.suitestatistics import  SuiteStatisticsBuilder\n",
    "from robot.model.tagstatistics import  TagStatisticsBuilder\n",
    "from robot.model.totalstatistics import TotalStatisticsBuilder"
   ]
  },
  {
   "cell_type": "code",
   "execution_count": null,
   "metadata": {
    "collapsed": false
   },
   "outputs": [],
   "source": [
    "# visitor\n",
    "from robot.model.visitor import SuiteVisitor, SkipAllVisitor\n",
    "from robot.model.tagsetter import  TagSetter\n",
    "from robot.model.filter import  Filter, EmptySuiteRemover"
   ]
  },
  {
   "cell_type": "markdown",
   "metadata": {},
   "source": [
    "重点关注**SuiteVisitor**\n",
    "\n",
    "* 运行，logging以及其他很多功能都基于它来实现\n",
    "* 实例：[rfexplain.py](http://becrtt01.china.nsn-net.net/ta/rfinsight/blob/master/scripts/rfexplain.py)"
   ]
  },
  {
   "cell_type": "markdown",
   "metadata": {},
   "source": [
    "### robot.parsing"
   ]
  },
  {
   "cell_type": "markdown",
   "metadata": {},
   "source": [
    "顾名思义, robot.parsing是RobotFramework的解析模块,负责将suite文件或目录解析成RobotFramework自己的数据结构. "
   ]
  },
  {
   "cell_type": "code",
   "execution_count": 31,
   "metadata": {
    "collapsed": false
   },
   "outputs": [],
   "source": [
    "# case文件或目录的解析模块\n",
    "from robot.parsing.htmlreader import  HtmlReader\n",
    "from robot.parsing.restreader import RestReader\n",
    "from robot.parsing.txtreader import TxtReader\n",
    "from robot.parsing.tsvreader import TsvReader"
   ]
  },
  {
   "cell_type": "markdown",
   "metadata": {},
   "source": [
    "最主要的接口 - TestData"
   ]
  },
  {
   "cell_type": "code",
   "execution_count": 5,
   "metadata": {
    "collapsed": false,
    "scrolled": true
   },
   "outputs": [
    {
     "name": "stdout",
     "output_type": "stream",
     "text": [
      "Kw-Driven\n"
     ]
    }
   ],
   "source": [
    "# case文件或目录到model的转换 - robot.parsing.model.TestData\n",
    "from robot.parsing.model import  TestData\n",
    "from robot.api import TestData # 也可以直接用api调用, 这样更好\n",
    "data = TestData(source='examples/kw-driven.robot')\n",
    "print data.name"
   ]
  },
  {
   "cell_type": "markdown",
   "metadata": {},
   "source": [
    "### robot.running"
   ]
  },
  {
   "cell_type": "markdown",
   "metadata": {},
   "source": [
    "robot.running是RobotFramework运行时的主要模块, RobotFramework的整个运行阶段基本都与它相关"
   ]
  },
  {
   "cell_type": "markdown",
   "metadata": {},
   "source": [
    "#### TestSuiteBuilder - 创建运行时的TestSuite"
   ]
  },
  {
   "cell_type": "code",
   "execution_count": 40,
   "metadata": {
    "collapsed": false
   },
   "outputs": [
    {
     "name": "stdout",
     "output_type": "stream",
     "text": [
      "Kw-Driven\n"
     ]
    }
   ],
   "source": [
    "from robot.running.builder import TestSuiteBuilder\n",
    "from robot.api import TestSuiteBuilder # 也可以直接通过api调用,这样更好\n",
    "suite = TestSuiteBuilder().build('examples/kw-driven.robot')\n",
    "print suite"
   ]
  },
  {
   "cell_type": "markdown",
   "metadata": {},
   "source": [
    "#### EXECUTION_CONTEXTS - 运行时的所有信息\n",
    "\n",
    "一个EXECUTION_CONTEXTS类似于一个stack，每个item为一个\\_EXECUTION_CONTEXT。\n",
    "在\\_EXECUTION_CONTEXT中最为主要的属性为一个Namespace。"
   ]
  },
  {
   "cell_type": "code",
   "execution_count": 2,
   "metadata": {
    "collapsed": false
   },
   "outputs": [],
   "source": [
    "# coding: utf-8\n",
    "# example - 在当前每个test运行前插入一个分割符的log\n",
    "from robot.running.context import EXECUTION_CONTEXTS\n",
    "from robot.running import Keyword\n",
    "\n",
    "class TestSplitter:\n",
    "    ROBOT_LISTENER_API_VERSION = 2\n",
    "\n",
    "    def __init__(self):\n",
    "        self._splitter = '-' * 80\n",
    "\n",
    "    def start_test(self, name, attributes):\n",
    "        ns = EXECUTION_CONTEXTS.current\n",
    "        Keyword('log', (self._splitter, )).run(ns)\n"
   ]
  },
  {
   "cell_type": "markdown",
   "metadata": {},
   "source": [
    "使用命令`pybot --listener listener.TestSplitter kw-driven.robot`执行，可以得到如下的log：\n",
    "\n",
    "[log.html](examples/log.html)"
   ]
  },
  {
   "cell_type": "markdown",
   "metadata": {},
   "source": [
    "#### 传递给某个具体的suite的运行数据"
   ]
  },
  {
   "cell_type": "code",
   "execution_count": 7,
   "metadata": {
    "collapsed": false
   },
   "outputs": [],
   "source": [
    "from robot.running.namespace import Namespace\n",
    "import os\n",
    "\n",
    "# Namespace的主要属性和实现\n",
    "class Namespace:\n",
    "    _default_libraries = ('BuiltIn', 'Reserved', 'Easter')\n",
    "    _deprecated_libraries = {'BuiltIn': 'DeprecatedBuiltIn',\n",
    "                             'OperatingSystem': 'DeprecatedOperatingSystem'}\n",
    "    _library_import_by_path_endings = ('.py', '.java', '.class', '/', os.sep)\n",
    "\n",
    "    def __init__(self, suite, variables, parent_variables, user_keywords,\n",
    "                 imports):\n",
    "        LOGGER.info(\"Initializing namespace for test suite '%s'\" % suite.longname)\n",
    "        self.suite = suite\n",
    "        self.test = None\n",
    "        self.uk_handlers = []\n",
    "        self.variables = _VariableScopes(variables, parent_variables)\n",
    "        self._imports = imports\n",
    "        self._kw_store = KeywordStore(user_keywords)\n",
    "        self._imported_variable_files = ImportCache()\n",
    "\n",
    "    @property\n",
    "    def libraries(self):\n",
    "        return self._kw_store.libraries.values()\n"
   ]
  },
  {
   "cell_type": "markdown",
   "metadata": {},
   "source": [
    "#### model - 运行时的模型抽象"
   ]
  },
  {
   "cell_type": "code",
   "execution_count": 70,
   "metadata": {
    "collapsed": false
   },
   "outputs": [],
   "source": [
    "from robot.running.model import TestCase, TestSuite\n",
    "from robot.running.keywords import Keyword, Keywords\n",
    "from robot.running.status import SuiteStatus, TestStatus\n",
    "from robot.running.userkeyword import UserLibrary # 还有其它模型抽象\n",
    "from robot.running.testlibraries import TestLibrary"
   ]
  },
  {
   "cell_type": "markdown",
   "metadata": {},
   "source": [
    "#### Runner - 实际执行suite的class\n",
    "\n",
    "* 继承自SuiteVisitor"
   ]
  },
  {
   "cell_type": "code",
   "execution_count": null,
   "metadata": {
    "collapsed": false
   },
   "outputs": [],
   "source": [
    "from robot.running.runner import Runner\n",
    "# dir(Runner) # 可以看到如start_suite等方法"
   ]
  },
  {
   "cell_type": "markdown",
   "metadata": {},
   "source": [
    "#### signal监控 - 处理stop gracefully等"
   ]
  },
  {
   "cell_type": "code",
   "execution_count": 4,
   "metadata": {
    "collapsed": false
   },
   "outputs": [
    {
     "name": "stdout",
     "output_type": "stream",
     "text": [
      "a\n",
      "b\n",
      "c\n"
     ]
    }
   ],
   "source": [
    "from robot.running.signalhandler import STOP_SIGNAL_MONITOR\n",
    "with STOP_SIGNAL_MONITOR:\n",
    "    import time\n",
    "    print 'a'\n",
    "    time.sleep(2)\n",
    "    print 'b'\n",
    "    time.sleep(2)\n",
    "    print 'c'\n",
    "    time.sleep(2)"
   ]
  },
  {
   "cell_type": "markdown",
   "metadata": {},
   "source": [
    "Question:\n",
    "\n",
    "1. 为什么上面的例子还是把a,b,c都输出来了?\n",
    "1. 为什么执行Ctrl+C后之后的keyword都不执行了?"
   ]
  },
  {
   "cell_type": "markdown",
   "metadata": {},
   "source": [
    "#### timeout处理\n",
    "\n",
    "原理：根据平台和python版本不同，timeout有几种不同的实现方式。\n",
    "```python\n",
    "if sys.platform == 'cli':\n",
    "    from .timeoutthread import Timeout\n",
    "elif os.name == 'nt':\n",
    "    from .timeoutwin import Timeout\n",
    "else:\n",
    "    try:\n",
    "        # python 2.6 or newer in *nix or mac\n",
    "        from .timeoutsignaling import Timeout\n",
    "    except ImportError:\n",
    "        # python < 2.6 and jython don't have complete signal module\n",
    "        from .timeoutthread import Timeout\n",
    "```\n",
    "以Linux平台Python 2.7为例来展示一下它的工作方式。"
   ]
  },
  {
   "cell_type": "code",
   "execution_count": 6,
   "metadata": {
    "collapsed": false,
    "scrolled": true
   },
   "outputs": [
    {
     "name": "stdout",
     "output_type": "stream",
     "text": [
      "start\n"
     ]
    },
    {
     "ename": "TimeoutError",
     "evalue": "timeout",
     "output_type": "error",
     "traceback": [
      "\u001b[1;31m---------------------------------------------------------------------------\u001b[0m",
      "\u001b[1;31mTimeoutError\u001b[0m                              Traceback (most recent call last)",
      "\u001b[1;32m<ipython-input-6-62d589e1046c>\u001b[0m in \u001b[0;36m<module>\u001b[1;34m()\u001b[0m\n\u001b[0;32m      6\u001b[0m     \u001b[0mtime\u001b[0m\u001b[1;33m.\u001b[0m\u001b[0msleep\u001b[0m\u001b[1;33m(\u001b[0m\u001b[1;36m10\u001b[0m\u001b[1;33m)\u001b[0m\u001b[1;33m\u001b[0m\u001b[0m\n\u001b[0;32m      7\u001b[0m     \u001b[1;32mprint\u001b[0m \u001b[1;34m'end'\u001b[0m\u001b[1;33m\u001b[0m\u001b[0m\n\u001b[1;32m----> 8\u001b[1;33m \u001b[0mt\u001b[0m\u001b[1;33m.\u001b[0m\u001b[0mexecute\u001b[0m\u001b[1;33m(\u001b[0m\u001b[0mtest\u001b[0m\u001b[1;33m)\u001b[0m\u001b[1;33m\u001b[0m\u001b[0m\n\u001b[0m",
      "\u001b[1;32m/usr/local/lib/python2.7/dist-packages/robot/running/timeouts/timeoutsignaling.pyc\u001b[0m in \u001b[0;36mexecute\u001b[1;34m(self, runnable)\u001b[0m\n\u001b[0;32m     27\u001b[0m         \u001b[0mself\u001b[0m\u001b[1;33m.\u001b[0m\u001b[0m_start_timer\u001b[0m\u001b[1;33m(\u001b[0m\u001b[1;33m)\u001b[0m\u001b[1;33m\u001b[0m\u001b[0m\n\u001b[0;32m     28\u001b[0m         \u001b[1;32mtry\u001b[0m\u001b[1;33m:\u001b[0m\u001b[1;33m\u001b[0m\u001b[0m\n\u001b[1;32m---> 29\u001b[1;33m             \u001b[1;32mreturn\u001b[0m \u001b[0mrunnable\u001b[0m\u001b[1;33m(\u001b[0m\u001b[1;33m)\u001b[0m\u001b[1;33m\u001b[0m\u001b[0m\n\u001b[0m\u001b[0;32m     30\u001b[0m         \u001b[1;32mfinally\u001b[0m\u001b[1;33m:\u001b[0m\u001b[1;33m\u001b[0m\u001b[0m\n\u001b[0;32m     31\u001b[0m             \u001b[0mself\u001b[0m\u001b[1;33m.\u001b[0m\u001b[0m_stop_timer\u001b[0m\u001b[1;33m(\u001b[0m\u001b[1;33m)\u001b[0m\u001b[1;33m\u001b[0m\u001b[0m\n",
      "\u001b[1;32m<ipython-input-6-62d589e1046c>\u001b[0m in \u001b[0;36mtest\u001b[1;34m()\u001b[0m\n\u001b[0;32m      4\u001b[0m     \u001b[1;32mimport\u001b[0m \u001b[0mtime\u001b[0m\u001b[1;33m\u001b[0m\u001b[0m\n\u001b[0;32m      5\u001b[0m     \u001b[1;32mprint\u001b[0m \u001b[1;34m'start'\u001b[0m\u001b[1;33m\u001b[0m\u001b[0m\n\u001b[1;32m----> 6\u001b[1;33m     \u001b[0mtime\u001b[0m\u001b[1;33m.\u001b[0m\u001b[0msleep\u001b[0m\u001b[1;33m(\u001b[0m\u001b[1;36m10\u001b[0m\u001b[1;33m)\u001b[0m\u001b[1;33m\u001b[0m\u001b[0m\n\u001b[0m\u001b[0;32m      7\u001b[0m     \u001b[1;32mprint\u001b[0m \u001b[1;34m'end'\u001b[0m\u001b[1;33m\u001b[0m\u001b[0m\n\u001b[0;32m      8\u001b[0m \u001b[0mt\u001b[0m\u001b[1;33m.\u001b[0m\u001b[0mexecute\u001b[0m\u001b[1;33m(\u001b[0m\u001b[0mtest\u001b[0m\u001b[1;33m)\u001b[0m\u001b[1;33m\u001b[0m\u001b[0m\n",
      "\u001b[1;32m/usr/local/lib/python2.7/dist-packages/robot/running/timeouts/timeoutsignaling.pyc\u001b[0m in \u001b[0;36m_raise_timeout_error\u001b[1;34m(self, signum, frame)\u001b[0m\n\u001b[0;32m     36\u001b[0m \u001b[1;33m\u001b[0m\u001b[0m\n\u001b[0;32m     37\u001b[0m     \u001b[1;32mdef\u001b[0m \u001b[0m_raise_timeout_error\u001b[0m\u001b[1;33m(\u001b[0m\u001b[0mself\u001b[0m\u001b[1;33m,\u001b[0m \u001b[0msignum\u001b[0m\u001b[1;33m,\u001b[0m \u001b[0mframe\u001b[0m\u001b[1;33m)\u001b[0m\u001b[1;33m:\u001b[0m\u001b[1;33m\u001b[0m\u001b[0m\n\u001b[1;32m---> 38\u001b[1;33m         \u001b[1;32mraise\u001b[0m \u001b[0mTimeoutError\u001b[0m\u001b[1;33m(\u001b[0m\u001b[0mself\u001b[0m\u001b[1;33m.\u001b[0m\u001b[0m_error\u001b[0m\u001b[1;33m)\u001b[0m\u001b[1;33m\u001b[0m\u001b[0m\n\u001b[0m\u001b[0;32m     39\u001b[0m \u001b[1;33m\u001b[0m\u001b[0m\n\u001b[0;32m     40\u001b[0m     \u001b[1;32mdef\u001b[0m \u001b[0m_stop_timer\u001b[0m\u001b[1;33m(\u001b[0m\u001b[0mself\u001b[0m\u001b[1;33m)\u001b[0m\u001b[1;33m:\u001b[0m\u001b[1;33m\u001b[0m\u001b[0m\n",
      "\u001b[1;31mTimeoutError\u001b[0m: timeout"
     ]
    }
   ],
   "source": [
    "from robot.running.timeouts import Timeout\n",
    "t = Timeout(1, 'timeout')\n",
    "\n",
    "def test():\n",
    "    import time\n",
    "    print 'start'\n",
    "    time.sleep(10)\n",
    "    print 'end'\n",
    "\n",
    "t.execute(test)"
   ]
  },
  {
   "cell_type": "code",
   "execution_count": 10,
   "metadata": {
    "collapsed": false
   },
   "outputs": [
    {
     "name": "stdout",
     "output_type": "stream",
     "text": [
      "start\n"
     ]
    },
    {
     "ename": "RuntimeError",
     "evalue": "timeout",
     "output_type": "error",
     "traceback": [
      "\u001b[1;31m---------------------------------------------------------------------------\u001b[0m",
      "\u001b[1;31mRuntimeError\u001b[0m                              Traceback (most recent call last)",
      "\u001b[1;32m<ipython-input-10-d41837dbbacd>\u001b[0m in \u001b[0;36m<module>\u001b[1;34m()\u001b[0m\n\u001b[0;32m     13\u001b[0m \u001b[0msignal\u001b[0m\u001b[1;33m(\u001b[0m\u001b[0mSIGALRM\u001b[0m\u001b[1;33m,\u001b[0m \u001b[0m_raise_error\u001b[0m\u001b[1;33m)\u001b[0m\u001b[1;33m\u001b[0m\u001b[0m\n\u001b[0;32m     14\u001b[0m \u001b[0msetitimer\u001b[0m\u001b[1;33m(\u001b[0m\u001b[0mITIMER_REAL\u001b[0m\u001b[1;33m,\u001b[0m \u001b[1;36m1\u001b[0m\u001b[1;33m)\u001b[0m\u001b[1;33m\u001b[0m\u001b[0m\n\u001b[1;32m---> 15\u001b[1;33m \u001b[0mtest\u001b[0m\u001b[1;33m(\u001b[0m\u001b[1;33m)\u001b[0m\u001b[1;33m\u001b[0m\u001b[0m\n\u001b[0m",
      "\u001b[1;32m<ipython-input-10-d41837dbbacd>\u001b[0m in \u001b[0;36mtest\u001b[1;34m()\u001b[0m\n\u001b[0;32m      8\u001b[0m     \u001b[1;32mimport\u001b[0m \u001b[0mtime\u001b[0m\u001b[1;33m\u001b[0m\u001b[0m\n\u001b[0;32m      9\u001b[0m     \u001b[1;32mprint\u001b[0m \u001b[1;34m'start'\u001b[0m\u001b[1;33m\u001b[0m\u001b[0m\n\u001b[1;32m---> 10\u001b[1;33m     \u001b[0mtime\u001b[0m\u001b[1;33m.\u001b[0m\u001b[0msleep\u001b[0m\u001b[1;33m(\u001b[0m\u001b[1;36m10\u001b[0m\u001b[1;33m)\u001b[0m\u001b[1;33m\u001b[0m\u001b[0m\n\u001b[0m\u001b[0;32m     11\u001b[0m     \u001b[1;32mprint\u001b[0m \u001b[1;34m'end'\u001b[0m\u001b[1;33m\u001b[0m\u001b[0m\n\u001b[0;32m     12\u001b[0m \u001b[1;33m\u001b[0m\u001b[0m\n",
      "\u001b[1;32m<ipython-input-10-d41837dbbacd>\u001b[0m in \u001b[0;36m_raise_error\u001b[1;34m(signum, frame)\u001b[0m\n\u001b[0;32m      3\u001b[0m \u001b[1;33m\u001b[0m\u001b[0m\n\u001b[0;32m      4\u001b[0m \u001b[1;32mdef\u001b[0m \u001b[0m_raise_error\u001b[0m\u001b[1;33m(\u001b[0m\u001b[0msignum\u001b[0m\u001b[1;33m,\u001b[0m \u001b[0mframe\u001b[0m\u001b[1;33m)\u001b[0m\u001b[1;33m:\u001b[0m\u001b[1;33m\u001b[0m\u001b[0m\n\u001b[1;32m----> 5\u001b[1;33m     \u001b[1;32mraise\u001b[0m \u001b[0mRuntimeError\u001b[0m\u001b[1;33m(\u001b[0m\u001b[1;34m'timeout'\u001b[0m\u001b[1;33m)\u001b[0m\u001b[1;33m\u001b[0m\u001b[0m\n\u001b[0m\u001b[0;32m      6\u001b[0m \u001b[1;33m\u001b[0m\u001b[0m\n\u001b[0;32m      7\u001b[0m \u001b[1;32mdef\u001b[0m \u001b[0mtest\u001b[0m\u001b[1;33m(\u001b[0m\u001b[1;33m)\u001b[0m\u001b[1;33m:\u001b[0m\u001b[1;33m\u001b[0m\u001b[0m\n",
      "\u001b[1;31mRuntimeError\u001b[0m: timeout"
     ]
    }
   ],
   "source": [
    "# 它的内部工作原理还是基于signal\n",
    "from signal import setitimer, signal, SIGALRM, ITIMER_REAL\n",
    "\n",
    "def _raise_error(signum, frame):\n",
    "    raise RuntimeError('timeout')\n",
    "    \n",
    "def test():\n",
    "    import time\n",
    "    print 'start'\n",
    "    time.sleep(10)\n",
    "    print 'end'\n",
    "    \n",
    "signal(SIGALRM, _raise_error)\n",
    "setitimer(ITIMER_REAL, 1)\n",
    "test()"
   ]
  },
  {
   "cell_type": "markdown",
   "metadata": {},
   "source": [
    "### robot.result"
   ]
  },
  {
   "cell_type": "markdown",
   "metadata": {},
   "source": [
    "**robot.result**是XML output的解析模块, 它的主要功能是将output.xml转换为Result对象"
   ]
  },
  {
   "cell_type": "code",
   "execution_count": null,
   "metadata": {
    "collapsed": false
   },
   "outputs": [],
   "source": [
    "# 从output.xml文件创建Result对象\n",
    "from robot.result import  ExecutionResult\n",
    "result = ExecutionResult('output.xml')"
   ]
  },
  {
   "cell_type": "code",
   "execution_count": null,
   "metadata": {
    "collapsed": false
   },
   "outputs": [],
   "source": [
    "#  Result vs. CombinedResult\n",
    "from robot.api import ExecutionResult\n",
    "from robot.result.resultbuilder import CombinedResult, Result, Merger\n",
    "sources = ['log-1.html', 'log-2.html']\n",
    "options = {}\n",
    "CombinedResult(ExecutionResult(src, **options) for src in sources)"
   ]
  },
  {
   "cell_type": "markdown",
   "metadata": {},
   "source": [
    "#### result阶段的model"
   ]
  },
  {
   "cell_type": "code",
   "execution_count": null,
   "metadata": {
    "collapsed": false
   },
   "outputs": [],
   "source": [
    "from robot.result.testsuite import TestSuite\n",
    "from robot.result.testcase import  TestCase\n",
    "from robot.result.keyword import Keyword"
   ]
  },
  {
   "cell_type": "markdown",
   "metadata": {},
   "source": [
    "### robot.reporting"
   ]
  },
  {
   "cell_type": "markdown",
   "metadata": {},
   "source": [
    "**robot.reporting**主要用于生成log.html和report.html, 除此以外, 它的功能还有:\n",
    "\n",
    "* 生成新的output.xml\n",
    "* log.html中js部分的生成器 (用于动态加载优化性能和解决内存问题)"
   ]
  },
  {
   "cell_type": "code",
   "execution_count": 73,
   "metadata": {
    "collapsed": false
   },
   "outputs": [],
   "source": [
    "# log.html & report.html\n",
    "from robot.reporting.resultwriter import ResultWriter, ReportWriter"
   ]
  },
  {
   "cell_type": "code",
   "execution_count": 74,
   "metadata": {
    "collapsed": false
   },
   "outputs": [],
   "source": [
    "# output.xml\n",
    "from robot.reporting.outputwriter import OutputWriter"
   ]
  },
  {
   "cell_type": "code",
   "execution_count": 75,
   "metadata": {
    "collapsed": false
   },
   "outputs": [],
   "source": [
    "# js writer\n",
    "from robot.reporting.jswriter import JsResultWriter, SplitLogWriter, JsonWriter"
   ]
  },
  {
   "cell_type": "markdown",
   "metadata": {},
   "source": [
    "## 不同阶段的model"
   ]
  },
  {
   "cell_type": "markdown",
   "metadata": {},
   "source": [
    "在不同的阶段都有对应的model, 另外robot还有一个robot.model模块.\n",
    "\n",
    "大部分的model都继承自robot.model中的相关类.\n",
    "\n",
    "但是robot.parsing.model除外. 怀疑是RobotFramework的遗留代码没有重构完导致的.\n",
    "\n",
    "* robot.model\n",
    "* robot.parsing.model\n",
    "* robot.running.model\n",
    "* robot.result.\"model\""
   ]
  },
  {
   "cell_type": "raw",
   "metadata": {},
   "source": [
    "让我们通过一些问题来组织一下前面的内容"
   ]
  },
  {
   "cell_type": "markdown",
   "metadata": {},
   "source": [
    "## Q: 你知道执行pybot后RobotFramework都做了些什么吗?"
   ]
  },
  {
   "cell_type": "markdown",
   "metadata": {},
   "source": [
    "* 实例化robot.run.RobotFramework\n",
    "* 命令行参数解析\n",
    "* 实例化RobotSettings\n",
    "* 设置LOGGER\n",
    "* 生成TestSuite\n",
    "* 执行TestSuite\n",
    "* 写入log和report\n",
    "* 判断测试结果\n",
    "* 结束进程"
   ]
  },
  {
   "cell_type": "markdown",
   "metadata": {},
   "source": [
    "这里写入log和report为optional步骤"
   ]
  },
  {
   "cell_type": "code",
   "execution_count": 82,
   "metadata": {
    "collapsed": false
   },
   "outputs": [
    {
     "ename": "SystemExit",
     "evalue": "0",
     "output_type": "error",
     "traceback": [
      "An exception has occurred, use %tb to see the full traceback.\n",
      "\u001b[1;31mSystemExit\u001b[0m\u001b[1;31m:\u001b[0m 0\n"
     ]
    },
    {
     "name": "stderr",
     "output_type": "stream",
     "text": [
      "To exit: use 'exit', 'quit', or Ctrl-D.\n"
     ]
    }
   ],
   "source": [
    "from robot.run import run_cli\n",
    "run_cli(['examples/kw-driven.robot'])"
   ]
  },
  {
   "cell_type": "markdown",
   "metadata": {},
   "source": [
    "## Q: 你知道RobotFramework的Stop Gracefully是怎么实现的吗?"
   ]
  },
  {
   "cell_type": "code",
   "execution_count": 4,
   "metadata": {
    "collapsed": false
   },
   "outputs": [],
   "source": [
    "# robot.running.model.TestSuite的run方法\n",
    "# robot.running.signalhandler\n",
    "# 通过signal.signal来实现Ctrl+C的监听\n",
    "from robot.running.signalhandler import STOP_SIGNAL_MONITOR\n",
    "from robot.output import pyloggingconf\n",
    "\n",
    "# robot.running.model\n",
    "def run(self, settings=None, **options):\n",
    "    if not settings:\n",
    "        settings = RobotSettings(options)\n",
    "        LOGGER.register_console_logger(**settings.console_logger_config)\n",
    "    with pyloggingconf.robot_handler_enabled(settings.log_level):\n",
    "        with STOP_SIGNAL_MONITOR:\n",
    "            IMPORTER.reset()\n",
    "            init_global_variables(settings)\n",
    "            output = Output(settings)\n",
    "            runner = Runner(output, settings)\n",
    "            self.visit(runner)\n",
    "        output.close(runner.result)\n",
    "    return runner.result\n",
    "\n",
    "\n",
    "# robot.running.handlers\n",
    "def _run_with_signal_monitoring(self, runner, context):\n",
    "    try:\n",
    "        STOP_SIGNAL_MONITOR.start_running_keyword(context.in_teardown)\n",
    "        return runner()\n",
    "    finally:\n",
    "        STOP_SIGNAL_MONITOR.stop_running_keyword()\n"
   ]
  },
  {
   "cell_type": "markdown",
   "metadata": {},
   "source": [
    "## 练习"
   ]
  },
  {
   "cell_type": "markdown",
   "metadata": {},
   "source": [
    "1. 阅读相关代码，找出listener的实现原理是什么\n",
    "1. 阅读相关代码，理清RobotFramework是怎么写入log的\n",
    "1. 阅读相关代码，理清dry-run是怎么实现的,有哪些局限性\n",
    "1. 理解RobotFramework的Timeout在Windows平台的实现原理\n",
    "1. 列出你认为的RobotFramework的设计缺陷或局限性"
   ]
  }
 ],
 "metadata": {
  "celltoolbar": "Slideshow",
  "kernelspec": {
   "display_name": "Python 2",
   "language": "python",
   "name": "python2"
  },
  "language_info": {
   "codemirror_mode": {
    "name": "ipython",
    "version": 2
   },
   "file_extension": ".py",
   "mimetype": "text/x-python",
   "name": "python",
   "nbconvert_exporter": "python",
   "pygments_lexer": "ipython2",
   "version": "2.7.6"
  }
 },
 "nbformat": 4,
 "nbformat_minor": 0
}
