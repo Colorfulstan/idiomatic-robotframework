{
 "cells": [
  {
   "cell_type": "markdown",
   "metadata": {
    "collapsed": true,
    "slideshow": {
     "slide_type": "slide"
    }
   },
   "source": [
    "## 1. Idiomatic RobotFramework\n",
    "\n",
    "![RobotFramework](/files/img/robotframework.png \"RobotFramework\")"
   ]
  },
  {
   "cell_type": "markdown",
   "metadata": {
    "slideshow": {
     "slide_type": "slide"
    }
   },
   "source": [
    "### TA是什么？"
   ]
  },
  {
   "cell_type": "markdown",
   "metadata": {
    "slideshow": {
     "slide_type": "subslide"
    }
   },
   "source": [
    "#### TA是软件开发的一种"
   ]
  },
  {
   "cell_type": "markdown",
   "metadata": {
    "slideshow": {
     "slide_type": "slide"
    }
   },
   "source": [
    "### 什么样的场景适合/不适合TA？"
   ]
  },
  {
   "cell_type": "markdown",
   "metadata": {
    "slideshow": {
     "slide_type": "slide"
    }
   },
   "source": [
    "### 在RobotFramework里面，suite是什么？"
   ]
  },
  {
   "cell_type": "markdown",
   "metadata": {
    "slideshow": {
     "slide_type": "subslide"
    }
   },
   "source": [
    "* Documentation\n",
    "* Meta Data\n",
    "* Force Tags\n",
    "* Suite Setup和Suite Teardown\n",
    "* 所有case的默认Test Setup, Test Teardown和Test Timeout"
   ]
  },
  {
   "cell_type": "markdown",
   "metadata": {
    "slideshow": {
     "slide_type": "slide"
    }
   },
   "source": [
    "### 有哪些suite组织上的常见问题？"
   ]
  },
  {
   "cell_type": "markdown",
   "metadata": {
    "slideshow": {
     "slide_type": "subslide"
    }
   },
   "source": [
    "* 只把文件当作suite\n",
    "* 一个suite仅包含一个test\n",
    "* 一个suite包含超过10个test\n",
    "* setup和teardown的步骤都在test中\n",
    "* suite的目录没有业务逻辑性(如: 根据team或者部门来组织suite目录结构)"
   ]
  },
  {
   "cell_type": "markdown",
   "metadata": {
    "slideshow": {
     "slide_type": "slide"
    }
   },
   "source": [
    "### 什么时候需要Variable File？"
   ]
  },
  {
   "cell_type": "markdown",
   "metadata": {
    "slideshow": {
     "slide_type": "subslide"
    }
   },
   "source": [
    "* 获取动态数据\n",
    "* 复杂的数据结构"
   ]
  },
  {
   "cell_type": "code",
   "execution_count": null,
   "metadata": {
    "collapsed": false,
    "slideshow": {
     "slide_type": "subslide"
    }
   },
   "outputs": [],
   "source": [
    "# sample test_var.py\n",
    "import socket\n",
    "import fcntl\n",
    "import struct\n",
    "\n",
    "def get_variables(iface):\n",
    "    return {'LOCAL_IP': _get_ip_address(iface)}\n",
    "\n",
    "def _get_ip_address(ifname):\n",
    "    s = socket.socket(socket.AF_INET, socket.SOCK_DGRAM)\n",
    "    return socket.inet_ntoa(fcntl.ioctl(\n",
    "        s.fileno(),\n",
    "        0x8915,  # SIOCGIFADDR\n",
    "        struct.pack('256s', ifname[:15])\n",
    "    )[20:24])"
   ]
  },
  {
   "cell_type": "markdown",
   "metadata": {
    "slideshow": {
     "slide_type": "slide"
    }
   },
   "source": [
    "### 什么时候需要用到Listener?"
   ]
  },
  {
   "cell_type": "markdown",
   "metadata": {
    "slideshow": {
     "slide_type": "subslide"
    }
   },
   "source": [
    "* 测试之外的需求, 如统计, 调试等\n",
    "* 统一要求的测试需求, 如文件清理, CI环境恢复等\n",
    "* 临时的测试需求"
   ]
  },
  {
   "cell_type": "code",
   "execution_count": null,
   "metadata": {
    "collapsed": true,
    "slideshow": {
     "slide_type": "subslide"
    }
   },
   "outputs": [],
   "source": [
    "# sample test_listener.py\n",
    "import os\n",
    "import time\n",
    "\n",
    "class RunningInspector:\n",
    "    ROBOT_LISTENER_API_VERSION = 2\n",
    "\n",
    "    def __init__(self, output_file='inspector.report'):\n",
    "        self._output_file = os.path.abspath(output_file)\n",
    "        # {'log': [10, 20, 30], 'quit': [300]}\n",
    "        self._report = {}\n",
    "        self._duration_stack = []\n",
    "\n",
    "    def start_keyword(self, name, attrs):\n",
    "        self._duration_stack.append(time.time())\n",
    "\n",
    "    def end_keyword(self, name, attrs):\n",
    "        duration = time.time() - self._duration_stack.pop()\n",
    "        self._report.setdefault(name, []).append(duration)\n",
    "\n",
    "    def close(self):\n",
    "        ''' write report file '''\n",
    "        with open(self._output_file, 'w+b') as f:\n",
    "            for kw_name, durations in self._report.iteritems():\n",
    "                f.write(kw_name + '\\n')\n",
    "                f.write('\\tcount: %d, duration: %d\\n' % (len(durations), sum(durations)))"
   ]
  },
  {
   "cell_type": "markdown",
   "metadata": {
    "slideshow": {
     "slide_type": "subslide"
    }
   },
   "source": [
    "#### [一个复杂的示例: rdb](http://gitlab.china.nsn-net.net/ta/rdb)"
   ]
  },
  {
   "cell_type": "markdown",
   "metadata": {
    "slideshow": {
     "slide_type": "slide"
    }
   },
   "source": [
    "### 给Keyword提供参数有哪些方法？"
   ]
  },
  {
   "cell_type": "markdown",
   "metadata": {
    "slideshow": {
     "slide_type": "subslide"
    }
   },
   "source": [
    "#### 方法一：通过[Arguments]\n",
    "\n",
    "```\n",
    "Send data to Server should return expect data back\n",
    "    [Arguments]    ${data}    ${expect data}\n",
    "    EchoClient.send    ${data}\n",
    "    ${received data}    EchoClient.read\n",
    "    Should Be Equal    ${received data}    ${data}\n",
    "```"
   ]
  },
  {
   "cell_type": "markdown",
   "metadata": {
    "slideshow": {
     "slide_type": "subslide"
    }
   },
   "source": [
    "#### 方法二：嵌入Keyword名字中\n",
    "\n",
    "```\n",
    "Send \"${data}\" to Server should return \"${expect data}\" back\n",
    "    EchoClient.send    ${data}\n",
    "    ${received data}    EchoClient.read\n",
    "    Should Be Equal    ${received data}    ${data}\n",
    "```"
   ]
  },
  {
   "cell_type": "markdown",
   "metadata": {
    "slideshow": {
     "slide_type": "slide"
    }
   },
   "source": [
    "### 怎么写一个library？"
   ]
  },
  {
   "cell_type": "code",
   "execution_count": null,
   "metadata": {
    "collapsed": true,
    "slideshow": {
     "slide_type": "subslide"
    }
   },
   "outputs": [],
   "source": [
    "# sample echo_lib.py\n",
    "import socket\n",
    "\n",
    "def connect_to_echo_client(host='127.0.0.1', port=50007, timeout=0.5):\n",
    "    _sock = socket.socket(socket.AF_INET, socket.SOCK_STREAM)\n",
    "    _sock.settimeout(timeout)\n",
    "    _sock.connect(host, int(port))\n",
    "    return _sock\n",
    "\n",
    "def disconnect_from_echo_client(_sock):\n",
    "    _sock.close()"
   ]
  },
  {
   "cell_type": "code",
   "execution_count": null,
   "metadata": {
    "collapsed": true,
    "slideshow": {
     "slide_type": "subslide"
    }
   },
   "outputs": [],
   "source": [
    "# sample echo2_lib.py\n",
    "import socket\n",
    "\n",
    "class EchoClient(object):\n",
    "    ROBOT_LIBRARY_SCOPE = 'GLOBAL'\n",
    "    def __init__(self, host='127.0.0.1', port=50007, timeout=0.5):\n",
    "        self._host = host\n",
    "        self._port = int(port)\n",
    "        self._timeout = float(timeout)\n",
    "        self._sock = socket.socket(socket.AF_INET, socket.SOCK_STREAM)\n",
    "        self._sock.settimeout(self._timeout)\n",
    "        self._buffer = 1024\n",
    "\n",
    "    def connect(self):\n",
    "        self._sock.connect((self._host, self._port))\n",
    "\n",
    "    def disconnect(self):\n",
    "        self._sock.close()"
   ]
  },
  {
   "cell_type": "markdown",
   "metadata": {
    "slideshow": {
     "slide_type": "subslide"
    }
   },
   "source": [
    "#### 这两种library区别在哪里？"
   ]
  }
 ],
 "metadata": {
  "celltoolbar": "Slideshow",
  "kernelspec": {
   "display_name": "Python 2",
   "language": "python",
   "name": "python2"
  },
  "language_info": {
   "codemirror_mode": {
    "name": "ipython",
    "version": 2
   },
   "file_extension": ".py",
   "mimetype": "text/x-python",
   "name": "python",
   "nbconvert_exporter": "python",
   "pygments_lexer": "ipython2",
   "version": "2.7.6"
  }
 },
 "nbformat": 4,
 "nbformat_minor": 0
}
