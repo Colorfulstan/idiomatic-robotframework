{
 "cells": [
  {
   "cell_type": "markdown",
   "metadata": {
    "slideshow": {
     "slide_type": "slide"
    }
   },
   "source": [
    "## 5. Build high efficiency TA solution\n",
    "\n",
    "![RobotFramework](/files/img/robotframework.png \"RobotFramework\")"
   ]
  },
  {
   "cell_type": "markdown",
   "metadata": {
    "slideshow": {
     "slide_type": "notes"
    }
   },
   "source": [
    "可以考虑采用分组实践的方式, 比如设计一个应用程序, 当有用户连上后, 就不会响应其他用户的请求. 或者一次只能处理两个用户的请求, 来模拟现实世界中的设备资源限制的问题.\n",
    "\n",
    "一开始的时候可能是通过人为交流来处理冲突, 接下来我们考虑其他更高效的方法.\n",
    "\n",
    "另一个可能的实践:\n",
    "\n",
    "Pre-condition:\n",
    "1. 一个基本准备好的echo_server.py, 处理最基本的用户请求\n",
    "1. 一个基本的echo_client.py, 处理对echo server的连接和发送接收操作\n",
    "\n",
    "Practice:\n",
    "1. 分组(5人左右一组, 3~4组)\n",
    "1. 准备好一个简单的服务端应用echo server\n",
    "1. 增加需求, 接受到quit的时候, 退出连接\n",
    "1. 增加需求, 如接收到showdate的时候, 显示当前服务器时间\n",
    "1. 再增加需求, 如接收到!\\<cmd\\>的时候, 在服务器上执行\\<cmd\\>命令, 并返回执行结果\n",
    "\n",
    "对于反馈的改进: 课上或课间以报事贴的形式贴在一边, 根据时间情况决定是否统一回复或者课后回复."
   ]
  },
  {
   "cell_type": "markdown",
   "metadata": {
    "slideshow": {
     "slide_type": "slide"
    }
   },
   "source": [
    "### 练习"
   ]
  },
  {
   "cell_type": "markdown",
   "metadata": {
    "slideshow": {
     "slide_type": "fragment"
    }
   },
   "source": [
    "* 新增需求: 当server接收到showdate的时候, 显示当前服务器时间\n",
    "* 新增需求: 当server接收到quit命令的时候, 退出连接\n",
    "* 新增需求: 当server接收到!cmd的时候, 在服务器上执行cmd命令, 并返回cmd执行结果\n",
    "* 增加限制: echo server使用同一台机器"
   ]
  },
  {
   "cell_type": "markdown",
   "metadata": {
    "slideshow": {
     "slide_type": "slide"
    }
   },
   "source": [
    "### 讨论: 在上面的练习中我们碰到了哪些问题(开发, 执行, 维护, 分析)?"
   ]
  },
  {
   "cell_type": "markdown",
   "metadata": {
    "slideshow": {
     "slide_type": "slide"
    }
   },
   "source": [
    "### TA的开发效率"
   ]
  },
  {
   "cell_type": "markdown",
   "metadata": {
    "slideshow": {
     "slide_type": "subslide"
    }
   },
   "source": [
    "#### 讨论: 目前开发TA都用到哪些工具? 有哪些问题会影响TA开发效率?"
   ]
  },
  {
   "cell_type": "markdown",
   "metadata": {
    "slideshow": {
     "slide_type": "subslide"
    }
   },
   "source": [
    "#### 讨论：\n",
    "\n",
    "* Q: case调试的时候都有哪些方法?\n",
    "* Q: 怎么在python console里面执行keyword?\n",
    "* Q: 怎么调试到RobotFramework的代码里面?"
   ]
  },
  {
   "cell_type": "markdown",
   "metadata": {
    "slideshow": {
     "slide_type": "slide"
    }
   },
   "source": [
    "### TA的执行效率"
   ]
  },
  {
   "cell_type": "markdown",
   "metadata": {
    "slideshow": {
     "slide_type": "subslide"
    }
   },
   "source": [
    "#### 讨论: 目前的TA是怎么执行的, 有哪些影响TA执行效率的因素?"
   ]
  },
  {
   "cell_type": "markdown",
   "metadata": {
    "slideshow": {
     "slide_type": "slide"
    }
   },
   "source": [
    "### TA的维护效率"
   ]
  },
  {
   "cell_type": "markdown",
   "metadata": {
    "slideshow": {
     "slide_type": "subslide"
    }
   },
   "source": [
    "#### 讨论: 目前TA的维护工作主要包含哪些?"
   ]
  },
  {
   "cell_type": "markdown",
   "metadata": {
    "slideshow": {
     "slide_type": "slide"
    }
   },
   "source": [
    "### TA的分析效率"
   ]
  },
  {
   "cell_type": "markdown",
   "metadata": {
    "slideshow": {
     "slide_type": "subslide"
    }
   },
   "source": [
    "#### 讨论: 目前TA的分析工作涉及哪些方面?"
   ]
  }
 ],
 "metadata": {
  "celltoolbar": "Slideshow",
  "kernelspec": {
   "display_name": "Python 2",
   "language": "python",
   "name": "python2"
  },
  "language_info": {
   "codemirror_mode": {
    "name": "ipython",
    "version": 2
   },
   "file_extension": ".py",
   "mimetype": "text/x-python",
   "name": "python",
   "nbconvert_exporter": "python",
   "pygments_lexer": "ipython2",
   "version": "2.7.6"
  }
 },
 "nbformat": 4,
 "nbformat_minor": 0
}
